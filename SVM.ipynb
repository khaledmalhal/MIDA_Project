{
 "cells": [
  {
   "cell_type": "markdown",
   "id": "238dcd5e-1141-42fb-8582-8a611680741d",
   "metadata": {},
   "source": [
    "# Support Vector Machine"
   ]
  },
  {
   "cell_type": "markdown",
   "id": "a73a0d68-b97b-46e3-8169-2a8599015b7d",
   "metadata": {},
   "source": [
    "## Reading the data"
   ]
  },
  {
   "cell_type": "code",
   "execution_count": 1,
   "id": "45ce4eaa-ae00-4284-b3e0-5279c1b31954",
   "metadata": {},
   "outputs": [
    {
     "data": {
      "text/plain": [
       "Index(['age', 'job', 'marital', 'education', 'default', 'housing', 'loan',\n",
       "       'contact', 'month', 'day_of_week', 'duration', 'campaign', 'pdays',\n",
       "       'previous', 'poutcome', 'emp.var.rate', 'cons.price.idx',\n",
       "       'cons.conf.idx', 'euribor3m', 'nr.employed', 'y'],\n",
       "      dtype='object')"
      ]
     },
     "execution_count": 1,
     "metadata": {},
     "output_type": "execute_result"
    }
   ],
   "source": [
    "%matplotlib inline\n",
    "import pandas as pd\n",
    "import numpy as np\n",
    "import matplotlib.pyplot as plt\n",
    "import sklearn.model_selection as cv\n",
    "from pandas.plotting import scatter_matrix\n",
    "\n",
    "data = pd.read_csv('bank-additional-full.csv', sep=',', na_values='.')\n",
    "data.columns"
   ]
  },
  {
   "cell_type": "code",
   "execution_count": 2,
   "id": "91af14b3-bf0a-4068-92b9-30c2e6cdeb56",
   "metadata": {},
   "outputs": [],
   "source": [
    "def plot_grid_search(cv_results, grid_param_1, grid_param_2, name_param_1, name_param_2):\n",
    "    # Get Test Scores Mean and std for each grid search\n",
    "    scores_mean = cv_results['mean_test_score']\n",
    "    scores_mean = np.array(scores_mean).reshape(len(grid_param_2),len(grid_param_1))\n",
    "\n",
    "    scores_sd = cv_results['std_test_score']\n",
    "    scores_sd = np.array(scores_sd).reshape(len(grid_param_2),len(grid_param_1))\n",
    "\n",
    "    # Plot Grid search scores\n",
    "    _, ax = plt.subplots(1,1)\n",
    "\n",
    "    # Param1 is the X-axis, Param 2 is represented as a different curve (color line)\n",
    "    for idx, val in enumerate(grid_param_2):\n",
    "        ax.plot(grid_param_1, scores_mean[idx,:], '-o', label= name_param_2 + ': ' + str(val))\n",
    "\n",
    "    ax.set_title(\"Grid Search Scores\", fontsize=20, fontweight='bold')\n",
    "    ax.set_xlabel(name_param_1, fontsize=16)\n",
    "    ax.set_ylabel('CV Average Score', fontsize=16)\n",
    "    ax.legend(loc=\"best\", fontsize=15)\n",
    "    ax.grid('on')"
   ]
  },
  {
   "cell_type": "code",
   "execution_count": 3,
   "id": "6fbade69-4ead-4ac5-88a2-8731230df8b9",
   "metadata": {},
   "outputs": [
    {
     "data": {
      "text/html": [
       "<div>\n",
       "<style scoped>\n",
       "    .dataframe tbody tr th:only-of-type {\n",
       "        vertical-align: middle;\n",
       "    }\n",
       "\n",
       "    .dataframe tbody tr th {\n",
       "        vertical-align: top;\n",
       "    }\n",
       "\n",
       "    .dataframe thead th {\n",
       "        text-align: right;\n",
       "    }\n",
       "</style>\n",
       "<table border=\"1\" class=\"dataframe\">\n",
       "  <thead>\n",
       "    <tr style=\"text-align: right;\">\n",
       "      <th></th>\n",
       "      <th>age</th>\n",
       "      <th>job</th>\n",
       "      <th>marital</th>\n",
       "      <th>education</th>\n",
       "      <th>default</th>\n",
       "      <th>housing</th>\n",
       "      <th>loan</th>\n",
       "      <th>contact</th>\n",
       "      <th>month</th>\n",
       "      <th>day_of_week</th>\n",
       "      <th>...</th>\n",
       "      <th>campaign</th>\n",
       "      <th>pdays</th>\n",
       "      <th>previous</th>\n",
       "      <th>poutcome</th>\n",
       "      <th>emp.var.rate</th>\n",
       "      <th>cons.price.idx</th>\n",
       "      <th>cons.conf.idx</th>\n",
       "      <th>euribor3m</th>\n",
       "      <th>nr.employed</th>\n",
       "      <th>y</th>\n",
       "    </tr>\n",
       "  </thead>\n",
       "  <tbody>\n",
       "    <tr>\n",
       "      <th>0</th>\n",
       "      <td>56</td>\n",
       "      <td>housemaid</td>\n",
       "      <td>married</td>\n",
       "      <td>basic.4y</td>\n",
       "      <td>no</td>\n",
       "      <td>no</td>\n",
       "      <td>no</td>\n",
       "      <td>telephone</td>\n",
       "      <td>may</td>\n",
       "      <td>mon</td>\n",
       "      <td>...</td>\n",
       "      <td>1</td>\n",
       "      <td>999</td>\n",
       "      <td>0</td>\n",
       "      <td>nonexistent</td>\n",
       "      <td>1.1</td>\n",
       "      <td>93.994</td>\n",
       "      <td>-36.4</td>\n",
       "      <td>4.857</td>\n",
       "      <td>5191.0</td>\n",
       "      <td>no</td>\n",
       "    </tr>\n",
       "    <tr>\n",
       "      <th>1</th>\n",
       "      <td>57</td>\n",
       "      <td>services</td>\n",
       "      <td>married</td>\n",
       "      <td>high.school</td>\n",
       "      <td>unknown</td>\n",
       "      <td>no</td>\n",
       "      <td>no</td>\n",
       "      <td>telephone</td>\n",
       "      <td>may</td>\n",
       "      <td>mon</td>\n",
       "      <td>...</td>\n",
       "      <td>1</td>\n",
       "      <td>999</td>\n",
       "      <td>0</td>\n",
       "      <td>nonexistent</td>\n",
       "      <td>1.1</td>\n",
       "      <td>93.994</td>\n",
       "      <td>-36.4</td>\n",
       "      <td>4.857</td>\n",
       "      <td>5191.0</td>\n",
       "      <td>no</td>\n",
       "    </tr>\n",
       "    <tr>\n",
       "      <th>2</th>\n",
       "      <td>37</td>\n",
       "      <td>services</td>\n",
       "      <td>married</td>\n",
       "      <td>high.school</td>\n",
       "      <td>no</td>\n",
       "      <td>yes</td>\n",
       "      <td>no</td>\n",
       "      <td>telephone</td>\n",
       "      <td>may</td>\n",
       "      <td>mon</td>\n",
       "      <td>...</td>\n",
       "      <td>1</td>\n",
       "      <td>999</td>\n",
       "      <td>0</td>\n",
       "      <td>nonexistent</td>\n",
       "      <td>1.1</td>\n",
       "      <td>93.994</td>\n",
       "      <td>-36.4</td>\n",
       "      <td>4.857</td>\n",
       "      <td>5191.0</td>\n",
       "      <td>no</td>\n",
       "    </tr>\n",
       "    <tr>\n",
       "      <th>3</th>\n",
       "      <td>40</td>\n",
       "      <td>admin.</td>\n",
       "      <td>married</td>\n",
       "      <td>basic.6y</td>\n",
       "      <td>no</td>\n",
       "      <td>no</td>\n",
       "      <td>no</td>\n",
       "      <td>telephone</td>\n",
       "      <td>may</td>\n",
       "      <td>mon</td>\n",
       "      <td>...</td>\n",
       "      <td>1</td>\n",
       "      <td>999</td>\n",
       "      <td>0</td>\n",
       "      <td>nonexistent</td>\n",
       "      <td>1.1</td>\n",
       "      <td>93.994</td>\n",
       "      <td>-36.4</td>\n",
       "      <td>4.857</td>\n",
       "      <td>5191.0</td>\n",
       "      <td>no</td>\n",
       "    </tr>\n",
       "    <tr>\n",
       "      <th>4</th>\n",
       "      <td>56</td>\n",
       "      <td>services</td>\n",
       "      <td>married</td>\n",
       "      <td>high.school</td>\n",
       "      <td>no</td>\n",
       "      <td>no</td>\n",
       "      <td>yes</td>\n",
       "      <td>telephone</td>\n",
       "      <td>may</td>\n",
       "      <td>mon</td>\n",
       "      <td>...</td>\n",
       "      <td>1</td>\n",
       "      <td>999</td>\n",
       "      <td>0</td>\n",
       "      <td>nonexistent</td>\n",
       "      <td>1.1</td>\n",
       "      <td>93.994</td>\n",
       "      <td>-36.4</td>\n",
       "      <td>4.857</td>\n",
       "      <td>5191.0</td>\n",
       "      <td>no</td>\n",
       "    </tr>\n",
       "    <tr>\n",
       "      <th>...</th>\n",
       "      <td>...</td>\n",
       "      <td>...</td>\n",
       "      <td>...</td>\n",
       "      <td>...</td>\n",
       "      <td>...</td>\n",
       "      <td>...</td>\n",
       "      <td>...</td>\n",
       "      <td>...</td>\n",
       "      <td>...</td>\n",
       "      <td>...</td>\n",
       "      <td>...</td>\n",
       "      <td>...</td>\n",
       "      <td>...</td>\n",
       "      <td>...</td>\n",
       "      <td>...</td>\n",
       "      <td>...</td>\n",
       "      <td>...</td>\n",
       "      <td>...</td>\n",
       "      <td>...</td>\n",
       "      <td>...</td>\n",
       "      <td>...</td>\n",
       "    </tr>\n",
       "    <tr>\n",
       "      <th>39186</th>\n",
       "      <td>73</td>\n",
       "      <td>retired</td>\n",
       "      <td>married</td>\n",
       "      <td>professional.course</td>\n",
       "      <td>no</td>\n",
       "      <td>yes</td>\n",
       "      <td>no</td>\n",
       "      <td>cellular</td>\n",
       "      <td>nov</td>\n",
       "      <td>fri</td>\n",
       "      <td>...</td>\n",
       "      <td>1</td>\n",
       "      <td>999</td>\n",
       "      <td>0</td>\n",
       "      <td>nonexistent</td>\n",
       "      <td>-1.1</td>\n",
       "      <td>94.767</td>\n",
       "      <td>-50.8</td>\n",
       "      <td>1.028</td>\n",
       "      <td>4963.6</td>\n",
       "      <td>yes</td>\n",
       "    </tr>\n",
       "    <tr>\n",
       "      <th>39187</th>\n",
       "      <td>46</td>\n",
       "      <td>blue-collar</td>\n",
       "      <td>married</td>\n",
       "      <td>professional.course</td>\n",
       "      <td>no</td>\n",
       "      <td>no</td>\n",
       "      <td>no</td>\n",
       "      <td>cellular</td>\n",
       "      <td>nov</td>\n",
       "      <td>fri</td>\n",
       "      <td>...</td>\n",
       "      <td>1</td>\n",
       "      <td>999</td>\n",
       "      <td>0</td>\n",
       "      <td>nonexistent</td>\n",
       "      <td>-1.1</td>\n",
       "      <td>94.767</td>\n",
       "      <td>-50.8</td>\n",
       "      <td>1.028</td>\n",
       "      <td>4963.6</td>\n",
       "      <td>no</td>\n",
       "    </tr>\n",
       "    <tr>\n",
       "      <th>39188</th>\n",
       "      <td>56</td>\n",
       "      <td>retired</td>\n",
       "      <td>married</td>\n",
       "      <td>university.degree</td>\n",
       "      <td>no</td>\n",
       "      <td>yes</td>\n",
       "      <td>no</td>\n",
       "      <td>cellular</td>\n",
       "      <td>nov</td>\n",
       "      <td>fri</td>\n",
       "      <td>...</td>\n",
       "      <td>2</td>\n",
       "      <td>999</td>\n",
       "      <td>0</td>\n",
       "      <td>nonexistent</td>\n",
       "      <td>-1.1</td>\n",
       "      <td>94.767</td>\n",
       "      <td>-50.8</td>\n",
       "      <td>1.028</td>\n",
       "      <td>4963.6</td>\n",
       "      <td>no</td>\n",
       "    </tr>\n",
       "    <tr>\n",
       "      <th>39189</th>\n",
       "      <td>44</td>\n",
       "      <td>technician</td>\n",
       "      <td>married</td>\n",
       "      <td>professional.course</td>\n",
       "      <td>no</td>\n",
       "      <td>no</td>\n",
       "      <td>no</td>\n",
       "      <td>cellular</td>\n",
       "      <td>nov</td>\n",
       "      <td>fri</td>\n",
       "      <td>...</td>\n",
       "      <td>1</td>\n",
       "      <td>999</td>\n",
       "      <td>0</td>\n",
       "      <td>nonexistent</td>\n",
       "      <td>-1.1</td>\n",
       "      <td>94.767</td>\n",
       "      <td>-50.8</td>\n",
       "      <td>1.028</td>\n",
       "      <td>4963.6</td>\n",
       "      <td>yes</td>\n",
       "    </tr>\n",
       "    <tr>\n",
       "      <th>39190</th>\n",
       "      <td>74</td>\n",
       "      <td>retired</td>\n",
       "      <td>married</td>\n",
       "      <td>professional.course</td>\n",
       "      <td>no</td>\n",
       "      <td>yes</td>\n",
       "      <td>no</td>\n",
       "      <td>cellular</td>\n",
       "      <td>nov</td>\n",
       "      <td>fri</td>\n",
       "      <td>...</td>\n",
       "      <td>3</td>\n",
       "      <td>999</td>\n",
       "      <td>1</td>\n",
       "      <td>failure</td>\n",
       "      <td>-1.1</td>\n",
       "      <td>94.767</td>\n",
       "      <td>-50.8</td>\n",
       "      <td>1.028</td>\n",
       "      <td>4963.6</td>\n",
       "      <td>no</td>\n",
       "    </tr>\n",
       "  </tbody>\n",
       "</table>\n",
       "<p>39191 rows × 21 columns</p>\n",
       "</div>"
      ],
      "text/plain": [
       "       age          job  marital            education  default housing loan  \\\n",
       "0       56    housemaid  married             basic.4y       no      no   no   \n",
       "1       57     services  married          high.school  unknown      no   no   \n",
       "2       37     services  married          high.school       no     yes   no   \n",
       "3       40       admin.  married             basic.6y       no      no   no   \n",
       "4       56     services  married          high.school       no      no  yes   \n",
       "...    ...          ...      ...                  ...      ...     ...  ...   \n",
       "39186   73      retired  married  professional.course       no     yes   no   \n",
       "39187   46  blue-collar  married  professional.course       no      no   no   \n",
       "39188   56      retired  married    university.degree       no     yes   no   \n",
       "39189   44   technician  married  professional.course       no      no   no   \n",
       "39190   74      retired  married  professional.course       no     yes   no   \n",
       "\n",
       "         contact month day_of_week  ...  campaign  pdays  previous  \\\n",
       "0      telephone   may         mon  ...         1    999         0   \n",
       "1      telephone   may         mon  ...         1    999         0   \n",
       "2      telephone   may         mon  ...         1    999         0   \n",
       "3      telephone   may         mon  ...         1    999         0   \n",
       "4      telephone   may         mon  ...         1    999         0   \n",
       "...          ...   ...         ...  ...       ...    ...       ...   \n",
       "39186   cellular   nov         fri  ...         1    999         0   \n",
       "39187   cellular   nov         fri  ...         1    999         0   \n",
       "39188   cellular   nov         fri  ...         2    999         0   \n",
       "39189   cellular   nov         fri  ...         1    999         0   \n",
       "39190   cellular   nov         fri  ...         3    999         1   \n",
       "\n",
       "          poutcome emp.var.rate  cons.price.idx  cons.conf.idx  euribor3m  \\\n",
       "0      nonexistent          1.1          93.994          -36.4      4.857   \n",
       "1      nonexistent          1.1          93.994          -36.4      4.857   \n",
       "2      nonexistent          1.1          93.994          -36.4      4.857   \n",
       "3      nonexistent          1.1          93.994          -36.4      4.857   \n",
       "4      nonexistent          1.1          93.994          -36.4      4.857   \n",
       "...            ...          ...             ...            ...        ...   \n",
       "39186  nonexistent         -1.1          94.767          -50.8      1.028   \n",
       "39187  nonexistent         -1.1          94.767          -50.8      1.028   \n",
       "39188  nonexistent         -1.1          94.767          -50.8      1.028   \n",
       "39189  nonexistent         -1.1          94.767          -50.8      1.028   \n",
       "39190      failure         -1.1          94.767          -50.8      1.028   \n",
       "\n",
       "       nr.employed    y  \n",
       "0           5191.0   no  \n",
       "1           5191.0   no  \n",
       "2           5191.0   no  \n",
       "3           5191.0   no  \n",
       "4           5191.0   no  \n",
       "...            ...  ...  \n",
       "39186       4963.6  yes  \n",
       "39187       4963.6   no  \n",
       "39188       4963.6   no  \n",
       "39189       4963.6  yes  \n",
       "39190       4963.6   no  \n",
       "\n",
       "[39191 rows x 21 columns]"
      ]
     },
     "execution_count": 3,
     "metadata": {},
     "output_type": "execute_result"
    }
   ],
   "source": [
    "data"
   ]
  },
  {
   "cell_type": "code",
   "execution_count": 4,
   "id": "8073c290-3368-4988-a4a4-a15ea70fe237",
   "metadata": {},
   "outputs": [],
   "source": [
    "# Constructing new column\n",
    "data[\"was_contacted\"] = np.where(data[\"pdays\"] < 100, True, False)\n",
    "data = data.drop(['pdays'], axis=1)"
   ]
  },
  {
   "cell_type": "code",
   "execution_count": 5,
   "id": "96edb6f6-8f47-4175-857a-c02f819d3417",
   "metadata": {},
   "outputs": [],
   "source": [
    "# Transform the y column into Boolean\n",
    "data.y = pd.Series(np.where(data.y.values == 'yes', True, False), data.index)"
   ]
  },
  {
   "cell_type": "code",
   "execution_count": 6,
   "id": "6f0cb22f-fc9b-4b9d-bf76-cca32638494d",
   "metadata": {},
   "outputs": [
    {
     "data": {
      "text/plain": [
       "Index(['age', 'duration', 'campaign', 'previous', 'emp.var.rate',\n",
       "       'cons.price.idx', 'cons.conf.idx', 'euribor3m', 'nr.employed', 'y',\n",
       "       'was_contacted', 'job_admin.', 'job_blue-collar', 'job_entrepreneur',\n",
       "       'job_housemaid', 'job_management', 'job_retired', 'job_self-employed',\n",
       "       'job_services', 'job_student', 'job_technician', 'job_unemployed',\n",
       "       'marital_divorced', 'marital_married', 'marital_single',\n",
       "       'education_basic.4y', 'education_basic.6y', 'education_basic.9y',\n",
       "       'education_high.school', 'education_illiterate',\n",
       "       'education_professional.course', 'education_university.degree',\n",
       "       'default_no', 'default_unknown', 'default_yes', 'housing_no',\n",
       "       'housing_unknown', 'housing_yes', 'loan_no', 'loan_unknown', 'loan_yes',\n",
       "       'contact_cellular', 'contact_telephone', 'month_apr', 'month_aug',\n",
       "       'month_dec', 'month_jul', 'month_jun', 'month_mar', 'month_may',\n",
       "       'month_nov', 'month_oct', 'month_sep', 'day_of_week_fri',\n",
       "       'day_of_week_mon', 'day_of_week_thu', 'day_of_week_tue',\n",
       "       'day_of_week_wed', 'poutcome_failure', 'poutcome_nonexistent',\n",
       "       'poutcome_success'],\n",
       "      dtype='object')"
      ]
     },
     "execution_count": 6,
     "metadata": {},
     "output_type": "execute_result"
    }
   ],
   "source": [
    "# Separate categorical columns into numeric ones...\n",
    "dummy = pd.get_dummies(data)\n",
    "data = dummy\n",
    "data.columns"
   ]
  },
  {
   "cell_type": "markdown",
   "id": "42302440-8077-432f-b7dd-17e6e1492544",
   "metadata": {},
   "source": [
    "## Separating data and labels"
   ]
  },
  {
   "cell_type": "code",
   "execution_count": 7,
   "id": "3be02951-9694-4b2f-9403-33bc6d4c76e6",
   "metadata": {},
   "outputs": [
    {
     "name": "stdout",
     "output_type": "stream",
     "text": [
      "(39191, 60)\n",
      "(39191,)\n"
     ]
    }
   ],
   "source": [
    "# Get training data and class column\n",
    "X = data.drop(['y'], axis=1).values\n",
    "y = data.y.values.astype(int)\n",
    "\n",
    "print(X.shape)\n",
    "print(y.shape)"
   ]
  },
  {
   "cell_type": "code",
   "execution_count": 8,
   "id": "0cd97105-d6f9-4dd7-8810-7795cea9dd65",
   "metadata": {},
   "outputs": [
    {
     "data": {
      "text/html": [
       "<div>\n",
       "<style scoped>\n",
       "    .dataframe tbody tr th:only-of-type {\n",
       "        vertical-align: middle;\n",
       "    }\n",
       "\n",
       "    .dataframe tbody tr th {\n",
       "        vertical-align: top;\n",
       "    }\n",
       "\n",
       "    .dataframe thead th {\n",
       "        text-align: right;\n",
       "    }\n",
       "</style>\n",
       "<table border=\"1\" class=\"dataframe\">\n",
       "  <thead>\n",
       "    <tr style=\"text-align: right;\">\n",
       "      <th></th>\n",
       "      <th>age</th>\n",
       "      <th>duration</th>\n",
       "      <th>campaign</th>\n",
       "      <th>previous</th>\n",
       "      <th>emp.var.rate</th>\n",
       "      <th>cons.price.idx</th>\n",
       "      <th>cons.conf.idx</th>\n",
       "      <th>euribor3m</th>\n",
       "      <th>nr.employed</th>\n",
       "      <th>y</th>\n",
       "      <th>...</th>\n",
       "      <th>month_oct</th>\n",
       "      <th>month_sep</th>\n",
       "      <th>day_of_week_fri</th>\n",
       "      <th>day_of_week_mon</th>\n",
       "      <th>day_of_week_thu</th>\n",
       "      <th>day_of_week_tue</th>\n",
       "      <th>day_of_week_wed</th>\n",
       "      <th>poutcome_failure</th>\n",
       "      <th>poutcome_nonexistent</th>\n",
       "      <th>poutcome_success</th>\n",
       "    </tr>\n",
       "  </thead>\n",
       "  <tbody>\n",
       "    <tr>\n",
       "      <th>count</th>\n",
       "      <td>39191.000000</td>\n",
       "      <td>39191.000000</td>\n",
       "      <td>39191.000000</td>\n",
       "      <td>39191.000000</td>\n",
       "      <td>39191.000000</td>\n",
       "      <td>39191.00000</td>\n",
       "      <td>39191.000000</td>\n",
       "      <td>39191.000000</td>\n",
       "      <td>39191.000000</td>\n",
       "      <td>39191</td>\n",
       "      <td>...</td>\n",
       "      <td>39191</td>\n",
       "      <td>39191</td>\n",
       "      <td>39191</td>\n",
       "      <td>39191</td>\n",
       "      <td>39191</td>\n",
       "      <td>39191</td>\n",
       "      <td>39191</td>\n",
       "      <td>39191</td>\n",
       "      <td>39191</td>\n",
       "      <td>39191</td>\n",
       "    </tr>\n",
       "    <tr>\n",
       "      <th>unique</th>\n",
       "      <td>NaN</td>\n",
       "      <td>NaN</td>\n",
       "      <td>NaN</td>\n",
       "      <td>NaN</td>\n",
       "      <td>NaN</td>\n",
       "      <td>NaN</td>\n",
       "      <td>NaN</td>\n",
       "      <td>NaN</td>\n",
       "      <td>NaN</td>\n",
       "      <td>2</td>\n",
       "      <td>...</td>\n",
       "      <td>2</td>\n",
       "      <td>2</td>\n",
       "      <td>2</td>\n",
       "      <td>2</td>\n",
       "      <td>2</td>\n",
       "      <td>2</td>\n",
       "      <td>2</td>\n",
       "      <td>2</td>\n",
       "      <td>2</td>\n",
       "      <td>2</td>\n",
       "    </tr>\n",
       "    <tr>\n",
       "      <th>top</th>\n",
       "      <td>NaN</td>\n",
       "      <td>NaN</td>\n",
       "      <td>NaN</td>\n",
       "      <td>NaN</td>\n",
       "      <td>NaN</td>\n",
       "      <td>NaN</td>\n",
       "      <td>NaN</td>\n",
       "      <td>NaN</td>\n",
       "      <td>NaN</td>\n",
       "      <td>False</td>\n",
       "      <td>...</td>\n",
       "      <td>False</td>\n",
       "      <td>False</td>\n",
       "      <td>False</td>\n",
       "      <td>False</td>\n",
       "      <td>False</td>\n",
       "      <td>False</td>\n",
       "      <td>False</td>\n",
       "      <td>False</td>\n",
       "      <td>True</td>\n",
       "      <td>False</td>\n",
       "    </tr>\n",
       "    <tr>\n",
       "      <th>freq</th>\n",
       "      <td>NaN</td>\n",
       "      <td>NaN</td>\n",
       "      <td>NaN</td>\n",
       "      <td>NaN</td>\n",
       "      <td>NaN</td>\n",
       "      <td>NaN</td>\n",
       "      <td>NaN</td>\n",
       "      <td>NaN</td>\n",
       "      <td>NaN</td>\n",
       "      <td>34831</td>\n",
       "      <td>...</td>\n",
       "      <td>38513</td>\n",
       "      <td>38675</td>\n",
       "      <td>31774</td>\n",
       "      <td>31084</td>\n",
       "      <td>30997</td>\n",
       "      <td>31508</td>\n",
       "      <td>31401</td>\n",
       "      <td>35147</td>\n",
       "      <td>33877</td>\n",
       "      <td>37921</td>\n",
       "    </tr>\n",
       "    <tr>\n",
       "      <th>mean</th>\n",
       "      <td>39.858003</td>\n",
       "      <td>257.995509</td>\n",
       "      <td>2.566380</td>\n",
       "      <td>0.170422</td>\n",
       "      <td>0.083238</td>\n",
       "      <td>93.57172</td>\n",
       "      <td>-40.537146</td>\n",
       "      <td>3.623633</td>\n",
       "      <td>5167.404340</td>\n",
       "      <td>NaN</td>\n",
       "      <td>...</td>\n",
       "      <td>NaN</td>\n",
       "      <td>NaN</td>\n",
       "      <td>NaN</td>\n",
       "      <td>NaN</td>\n",
       "      <td>NaN</td>\n",
       "      <td>NaN</td>\n",
       "      <td>NaN</td>\n",
       "      <td>NaN</td>\n",
       "      <td>NaN</td>\n",
       "      <td>NaN</td>\n",
       "    </tr>\n",
       "    <tr>\n",
       "      <th>std</th>\n",
       "      <td>10.288300</td>\n",
       "      <td>259.728574</td>\n",
       "      <td>2.772109</td>\n",
       "      <td>0.488258</td>\n",
       "      <td>1.566502</td>\n",
       "      <td>0.57705</td>\n",
       "      <td>4.621895</td>\n",
       "      <td>1.730493</td>\n",
       "      <td>71.787741</td>\n",
       "      <td>NaN</td>\n",
       "      <td>...</td>\n",
       "      <td>NaN</td>\n",
       "      <td>NaN</td>\n",
       "      <td>NaN</td>\n",
       "      <td>NaN</td>\n",
       "      <td>NaN</td>\n",
       "      <td>NaN</td>\n",
       "      <td>NaN</td>\n",
       "      <td>NaN</td>\n",
       "      <td>NaN</td>\n",
       "      <td>NaN</td>\n",
       "    </tr>\n",
       "    <tr>\n",
       "      <th>min</th>\n",
       "      <td>17.000000</td>\n",
       "      <td>0.000000</td>\n",
       "      <td>1.000000</td>\n",
       "      <td>0.000000</td>\n",
       "      <td>-3.400000</td>\n",
       "      <td>92.20100</td>\n",
       "      <td>-50.800000</td>\n",
       "      <td>0.634000</td>\n",
       "      <td>4963.600000</td>\n",
       "      <td>NaN</td>\n",
       "      <td>...</td>\n",
       "      <td>NaN</td>\n",
       "      <td>NaN</td>\n",
       "      <td>NaN</td>\n",
       "      <td>NaN</td>\n",
       "      <td>NaN</td>\n",
       "      <td>NaN</td>\n",
       "      <td>NaN</td>\n",
       "      <td>NaN</td>\n",
       "      <td>NaN</td>\n",
       "      <td>NaN</td>\n",
       "    </tr>\n",
       "    <tr>\n",
       "      <th>25%</th>\n",
       "      <td>32.000000</td>\n",
       "      <td>102.000000</td>\n",
       "      <td>1.000000</td>\n",
       "      <td>0.000000</td>\n",
       "      <td>-1.800000</td>\n",
       "      <td>93.07500</td>\n",
       "      <td>-42.700000</td>\n",
       "      <td>1.344000</td>\n",
       "      <td>5099.100000</td>\n",
       "      <td>NaN</td>\n",
       "      <td>...</td>\n",
       "      <td>NaN</td>\n",
       "      <td>NaN</td>\n",
       "      <td>NaN</td>\n",
       "      <td>NaN</td>\n",
       "      <td>NaN</td>\n",
       "      <td>NaN</td>\n",
       "      <td>NaN</td>\n",
       "      <td>NaN</td>\n",
       "      <td>NaN</td>\n",
       "      <td>NaN</td>\n",
       "    </tr>\n",
       "    <tr>\n",
       "      <th>50%</th>\n",
       "      <td>38.000000</td>\n",
       "      <td>179.000000</td>\n",
       "      <td>2.000000</td>\n",
       "      <td>0.000000</td>\n",
       "      <td>1.100000</td>\n",
       "      <td>93.44400</td>\n",
       "      <td>-41.800000</td>\n",
       "      <td>4.857000</td>\n",
       "      <td>5191.000000</td>\n",
       "      <td>NaN</td>\n",
       "      <td>...</td>\n",
       "      <td>NaN</td>\n",
       "      <td>NaN</td>\n",
       "      <td>NaN</td>\n",
       "      <td>NaN</td>\n",
       "      <td>NaN</td>\n",
       "      <td>NaN</td>\n",
       "      <td>NaN</td>\n",
       "      <td>NaN</td>\n",
       "      <td>NaN</td>\n",
       "      <td>NaN</td>\n",
       "    </tr>\n",
       "    <tr>\n",
       "      <th>75%</th>\n",
       "      <td>47.000000</td>\n",
       "      <td>319.000000</td>\n",
       "      <td>3.000000</td>\n",
       "      <td>0.000000</td>\n",
       "      <td>1.400000</td>\n",
       "      <td>93.99400</td>\n",
       "      <td>-36.400000</td>\n",
       "      <td>4.961000</td>\n",
       "      <td>5228.100000</td>\n",
       "      <td>NaN</td>\n",
       "      <td>...</td>\n",
       "      <td>NaN</td>\n",
       "      <td>NaN</td>\n",
       "      <td>NaN</td>\n",
       "      <td>NaN</td>\n",
       "      <td>NaN</td>\n",
       "      <td>NaN</td>\n",
       "      <td>NaN</td>\n",
       "      <td>NaN</td>\n",
       "      <td>NaN</td>\n",
       "      <td>NaN</td>\n",
       "    </tr>\n",
       "    <tr>\n",
       "      <th>max</th>\n",
       "      <td>98.000000</td>\n",
       "      <td>4918.000000</td>\n",
       "      <td>56.000000</td>\n",
       "      <td>7.000000</td>\n",
       "      <td>1.400000</td>\n",
       "      <td>94.76700</td>\n",
       "      <td>-26.900000</td>\n",
       "      <td>5.045000</td>\n",
       "      <td>5228.100000</td>\n",
       "      <td>NaN</td>\n",
       "      <td>...</td>\n",
       "      <td>NaN</td>\n",
       "      <td>NaN</td>\n",
       "      <td>NaN</td>\n",
       "      <td>NaN</td>\n",
       "      <td>NaN</td>\n",
       "      <td>NaN</td>\n",
       "      <td>NaN</td>\n",
       "      <td>NaN</td>\n",
       "      <td>NaN</td>\n",
       "      <td>NaN</td>\n",
       "    </tr>\n",
       "  </tbody>\n",
       "</table>\n",
       "<p>11 rows × 61 columns</p>\n",
       "</div>"
      ],
      "text/plain": [
       "                 age      duration      campaign      previous  emp.var.rate  \\\n",
       "count   39191.000000  39191.000000  39191.000000  39191.000000  39191.000000   \n",
       "unique           NaN           NaN           NaN           NaN           NaN   \n",
       "top              NaN           NaN           NaN           NaN           NaN   \n",
       "freq             NaN           NaN           NaN           NaN           NaN   \n",
       "mean       39.858003    257.995509      2.566380      0.170422      0.083238   \n",
       "std        10.288300    259.728574      2.772109      0.488258      1.566502   \n",
       "min        17.000000      0.000000      1.000000      0.000000     -3.400000   \n",
       "25%        32.000000    102.000000      1.000000      0.000000     -1.800000   \n",
       "50%        38.000000    179.000000      2.000000      0.000000      1.100000   \n",
       "75%        47.000000    319.000000      3.000000      0.000000      1.400000   \n",
       "max        98.000000   4918.000000     56.000000      7.000000      1.400000   \n",
       "\n",
       "        cons.price.idx  cons.conf.idx     euribor3m   nr.employed      y  ...  \\\n",
       "count      39191.00000   39191.000000  39191.000000  39191.000000  39191  ...   \n",
       "unique             NaN            NaN           NaN           NaN      2  ...   \n",
       "top                NaN            NaN           NaN           NaN  False  ...   \n",
       "freq               NaN            NaN           NaN           NaN  34831  ...   \n",
       "mean          93.57172     -40.537146      3.623633   5167.404340    NaN  ...   \n",
       "std            0.57705       4.621895      1.730493     71.787741    NaN  ...   \n",
       "min           92.20100     -50.800000      0.634000   4963.600000    NaN  ...   \n",
       "25%           93.07500     -42.700000      1.344000   5099.100000    NaN  ...   \n",
       "50%           93.44400     -41.800000      4.857000   5191.000000    NaN  ...   \n",
       "75%           93.99400     -36.400000      4.961000   5228.100000    NaN  ...   \n",
       "max           94.76700     -26.900000      5.045000   5228.100000    NaN  ...   \n",
       "\n",
       "       month_oct month_sep day_of_week_fri day_of_week_mon day_of_week_thu  \\\n",
       "count      39191     39191           39191           39191           39191   \n",
       "unique         2         2               2               2               2   \n",
       "top        False     False           False           False           False   \n",
       "freq       38513     38675           31774           31084           30997   \n",
       "mean         NaN       NaN             NaN             NaN             NaN   \n",
       "std          NaN       NaN             NaN             NaN             NaN   \n",
       "min          NaN       NaN             NaN             NaN             NaN   \n",
       "25%          NaN       NaN             NaN             NaN             NaN   \n",
       "50%          NaN       NaN             NaN             NaN             NaN   \n",
       "75%          NaN       NaN             NaN             NaN             NaN   \n",
       "max          NaN       NaN             NaN             NaN             NaN   \n",
       "\n",
       "       day_of_week_tue day_of_week_wed poutcome_failure poutcome_nonexistent  \\\n",
       "count            39191           39191            39191                39191   \n",
       "unique               2               2                2                    2   \n",
       "top              False           False            False                 True   \n",
       "freq             31508           31401            35147                33877   \n",
       "mean               NaN             NaN              NaN                  NaN   \n",
       "std                NaN             NaN              NaN                  NaN   \n",
       "min                NaN             NaN              NaN                  NaN   \n",
       "25%                NaN             NaN              NaN                  NaN   \n",
       "50%                NaN             NaN              NaN                  NaN   \n",
       "75%                NaN             NaN              NaN                  NaN   \n",
       "max                NaN             NaN              NaN                  NaN   \n",
       "\n",
       "       poutcome_success  \n",
       "count             39191  \n",
       "unique                2  \n",
       "top               False  \n",
       "freq              37921  \n",
       "mean                NaN  \n",
       "std                 NaN  \n",
       "min                 NaN  \n",
       "25%                 NaN  \n",
       "50%                 NaN  \n",
       "75%                 NaN  \n",
       "max                 NaN  \n",
       "\n",
       "[11 rows x 61 columns]"
      ]
     },
     "execution_count": 8,
     "metadata": {},
     "output_type": "execute_result"
    }
   ],
   "source": [
    "data.describe(include='all')"
   ]
  },
  {
   "cell_type": "code",
   "execution_count": 9,
   "id": "2030223f-0fc3-4984-937a-ba1527bdb50c",
   "metadata": {
    "scrolled": true
   },
   "outputs": [
    {
     "name": "stdout",
     "output_type": "stream",
     "text": [
      "std: 10.28816861224553 min 17 max 98\n",
      "std: 259.7252599689887 min 0 max 4918\n",
      "std: 2.7720738473606157 min 1 max 56\n",
      "std: 0.48825225686711266 min 0 max 7\n",
      "std: 1.5664821840190177 min -3.4 max 1.4\n",
      "std: 0.5770423960865926 min 92.201 max 94.767\n",
      "std: 4.621835748047421 min -50.8 max -26.9\n",
      "std: 1.730470588844565 min 0.634 max 5.045\n",
      "std: 71.78682547940478 min 4963.6 max 5228.1\n",
      "std: 0.18553354814546566 min False max True\n",
      "std: 0.43820528657815855 min False max True\n",
      "std: 0.4170776316592573 min False max True\n",
      "std: 0.1853418693052726 min False max True\n",
      "std: 0.15883341992318506 min False max True\n",
      "std: 0.25748174199921087 min False max True\n",
      "std: 0.19888974015592514 min False max True\n",
      "std: 0.1847654494015846 min False max True\n",
      "std: 0.29639065058998115 min False max True\n",
      "std: 0.13309552840602595 min False max True\n",
      "std: 0.37240771251437005 min False max True\n",
      "std: 0.156916501939839 min False max True\n",
      "std: 0.3162311733126127 min False max True\n",
      "std: 0.48864449535095883 min False max True\n",
      "std: 0.4496530325755551 min False max True\n",
      "std: 0.3066502221558115 min False max True\n",
      "std: 0.23330491029914033 min False max True\n",
      "std: 0.3602278033694667 min False max True\n",
      "std: 0.42798304298066364 min False max True\n",
      "std: 0.02142610967965468 min False max True\n",
      "std: 0.33992178990210103 min False max True\n",
      "std: 0.4619331412085198 min False max True\n",
      "std: 0.4024438848110068 min False max True\n",
      "std: 0.40238743618117234 min False max True\n",
      "std: 0.008748847207419082 min False max True\n",
      "std: 0.497572707929046 min False max True\n",
      "std: 0.15347815002854504 min False max True\n",
      "std: 0.49937112311572907 min False max True\n",
      "std: 0.3809803860740502 min False max True\n",
      "std: 0.15347815002854504 min False max True\n",
      "std: 0.3590695580851961 min False max True\n",
      "std: 0.4807313260231029 min False max True\n",
      "std: 0.4807313260231029 min False max True\n",
      "std: 0.24405965460183876 min False max True\n",
      "std: 0.35877259425434754 min False max True\n",
      "std: 0.06513850427175014 min False max True\n",
      "std: 0.37795930219452756 min False max True\n",
      "std: 0.3340202439788698 min False max True\n",
      "std: 0.11311119350429827 min False max True\n",
      "std: 0.47198167906428107 min False max True\n",
      "std: 0.30182505051030073 min False max True\n",
      "std: 0.1303863646137846 min False max True\n",
      "std: 0.11398656514699684 min False max True\n",
      "std: 0.39170917126812693 min False max True\n",
      "std: 0.4050533156647467 min False max True\n",
      "std: 0.4066506458162188 min False max True\n",
      "std: 0.39699907044900956 min False max True\n",
      "std: 0.3990746332279275 min False max True\n",
      "std: 0.3042029063986322 min False max True\n",
      "std: 0.3423551789415505 min False max True\n",
      "std: 0.17707424799095534 min False max True\n"
     ]
    }
   ],
   "source": [
    "for i in range(60):\n",
    "    print('std:',X[:,i].std(),'min',X[:,i].min(),'max',X[:,i].max())"
   ]
  },
  {
   "cell_type": "markdown",
   "id": "abee27f6-373f-4002-8397-45f2e71c6d6e",
   "metadata": {},
   "source": [
    "# Training of SVM without oversampling\n",
    "Due to the high difference of classes for y, we might wwant to oversample the training data. But we will first train the SVM models with the different kernels and compare them with the respective training with oversampled training data."
   ]
  },
  {
   "cell_type": "code",
   "execution_count": 10,
   "id": "6da376c2-890d-4a36-94be-a463b403c83e",
   "metadata": {},
   "outputs": [],
   "source": [
    "(X_train, X_test, y_train, y_test) = cv.train_test_split(X, y, test_size=.3, stratify = y,random_state=1)"
   ]
  },
  {
   "cell_type": "markdown",
   "id": "196c7f0c-e167-46f3-be4c-940fcacaee93",
   "metadata": {},
   "source": [
    "# Data normalization\n",
    "SKlearn documentation **highly** recommends normalize the data into a range of [-1, 1]. "
   ]
  },
  {
   "cell_type": "code",
   "execution_count": 11,
   "id": "2e9834ce-ca14-412c-9e60-64af59eab0fe",
   "metadata": {},
   "outputs": [],
   "source": [
    "from sklearn.preprocessing import StandardScaler\n",
    "from sklearn.preprocessing import MinMaxScaler\n",
    "\n",
    "#scaler = StandardScaler().fit(X_train)\n",
    "scaler = MinMaxScaler(feature_range=(-1, 1)).fit(X_train)\n",
    "\n",
    "# Apply the normalization trained in training data in both training and test sets\n",
    "X_train = scaler.transform(X_train)\n",
    "X_test = scaler.transform(X_test)"
   ]
  },
  {
   "cell_type": "markdown",
   "id": "505f5944-df66-429c-89e8-00361ef24d2c",
   "metadata": {},
   "source": [
    "## Linear SVM"
   ]
  },
  {
   "cell_type": "code",
   "execution_count": 12,
   "id": "17c24944-4d9e-4384-b7f8-9216ba6d1379",
   "metadata": {},
   "outputs": [
    {
     "name": "stdout",
     "output_type": "stream",
     "text": [
      "Confusion matrix on test set:\n",
      " [[10199   251]\n",
      " [  860   448]]\n",
      "\n",
      "Accuracy on test set:  0.9055111413505699\n"
     ]
    }
   ],
   "source": [
    "from sklearn.svm import SVC\n",
    "from sklearn import metrics\n",
    "\n",
    "linear_knc = SVC(kernel='linear')\n",
    "linear_knc.fit(X_train, y_train)\n",
    "linear_pred = linear_knc.predict(X_test)\n",
    "print(\"Confusion matrix on test set:\\n\",metrics.confusion_matrix(y_test, linear_pred))\n",
    "print(\"\\nAccuracy on test set: \", metrics.accuracy_score(y_test, linear_pred))"
   ]
  },
  {
   "cell_type": "code",
   "execution_count": 13,
   "id": "3588737d-a3f9-4e8e-98be-e42a5926c373",
   "metadata": {},
   "outputs": [
    {
     "name": "stdout",
     "output_type": "stream",
     "text": [
      "              precision    recall  f1-score   support\n",
      "\n",
      "           0       0.92      0.98      0.95     10450\n",
      "           1       0.64      0.34      0.45      1308\n",
      "\n",
      "    accuracy                           0.91     11758\n",
      "   macro avg       0.78      0.66      0.70     11758\n",
      "weighted avg       0.89      0.91      0.89     11758\n",
      "\n"
     ]
    }
   ],
   "source": [
    "from sklearn.metrics import classification_report\n",
    "\n",
    "print(classification_report(y_test, linear_pred))"
   ]
  },
  {
   "cell_type": "markdown",
   "id": "e6e8e19c-8844-4571-a821-04de3e6be2b6",
   "metadata": {},
   "source": [
    "## Finding the best parameters of C"
   ]
  },
  {
   "cell_type": "code",
   "execution_count": 14,
   "id": "55d86a96-0b29-4897-b9e7-816bf8663d03",
   "metadata": {},
   "outputs": [
    {
     "name": "stdout",
     "output_type": "stream",
     "text": [
      "C params: [  1.  10. 100.]\n",
      "gamma params: [0.001 0.01  0.1  ]\n"
     ]
    }
   ],
   "source": [
    "from sklearn.model_selection import GridSearchCV\n",
    "\n",
    "# Parameter sets\n",
    "Cs     = np.logspace(0, 2, num=3, base=10.0)\n",
    "gammas = np.logspace(-3, -1, num=3, base=10.0)\n",
    "\n",
    "cache_size = 3500\n",
    "print(\"C params:\", Cs)\n",
    "print(\"gamma params:\", gammas)"
   ]
  },
  {
   "cell_type": "code",
   "execution_count": 15,
   "id": "b5de0373-b609-448b-97d6-55dbdeaeb282",
   "metadata": {},
   "outputs": [
    {
     "name": "stdout",
     "output_type": "stream",
     "text": [
      "\n",
      "Best value of parameter C found: 100.0\n"
     ]
    }
   ],
   "source": [
    "import joblib\n",
    "import os\n",
    "\n",
    "params = {'C': Cs, 'kernel': ['linear'] }\n",
    "\n",
    "if os.path.isfile('trained/svc_linear.plk'):\n",
    "    grid_clf = joblib.load('trained/svc_linear.plk')\n",
    "else:\n",
    "    grid_clf = GridSearchCV(SVC(cache_size=cache_size), params)\n",
    "    grid_clf.fit(X_train, y_train)\n",
    "    joblib.dump(grid_clf, 'trained/svc_linear.plk')\n",
    "\n",
    "bestparams = grid_clf.best_params_\n",
    "\n",
    "print(\"\\nBest value of parameter C found:\", bestparams['C'])"
   ]
  },
  {
   "cell_type": "code",
   "execution_count": 16,
   "id": "001949a2-b973-4698-80b1-6052110c3695",
   "metadata": {},
   "outputs": [
    {
     "data": {
      "image/png": "[encoded data removed]",
      "text/plain": [
       "<Figure size 640x480 with 1 Axes>"
      ]
     },
     "metadata": {},
     "output_type": "display_data"
    }
   ],
   "source": [
    "# Let's plot the 10-fold cross.validation accuracy deppending on C\n",
    "scores = grid_clf.cv_results_['mean_test_score']\n",
    "plt.semilogx(Cs,scores)\n",
    "plt.show()"
   ]
  },
  {
   "cell_type": "code",
   "execution_count": 17,
   "id": "dfe89326-b80a-4c37-94d6-1b37eacc0dff",
   "metadata": {},
   "outputs": [
    {
     "name": "stdout",
     "output_type": "stream",
     "text": [
      "Confusion matrix on test set:\n",
      " [[10196   254]\n",
      " [  853   455]]\n",
      "\n",
      "Accuracy on test set:  0.9058513352610988\n",
      "\n",
      "Number of supports:  5442 ( 5385 of them have slacks)\n",
      "Prop. of supports:  0.19837422082892867\n"
     ]
    }
   ],
   "source": [
    "# Training model with the best parameters\n",
    "linear_svc = SVC(C=bestparams['C'], kernel='linear')\n",
    "linear_svc.fit(X_train, y_train)\n",
    "\n",
    "linear_pred = linear_svc.predict(X_test)\n",
    "\n",
    "print(\"Confusion matrix on test set:\\n\", metrics.confusion_matrix(y_test, linear_pred))\n",
    "print(\"\\nAccuracy on test set: \", metrics.accuracy_score(y_test, linear_pred))\n",
    "print(\"\\nNumber of supports: \",np.sum(linear_svc.n_support_), \"(\",np.sum(np.abs(linear_svc.dual_coef_)==bestparams['C']) ,\"of them have slacks)\")\n",
    "print(\"Prop. of supports: \",np.sum(linear_svc.n_support_)/X_train.shape[0])"
   ]
  },
  {
   "cell_type": "code",
   "execution_count": 18,
   "id": "f970078d-ac08-4b81-972d-c4f11559d2df",
   "metadata": {},
   "outputs": [
    {
     "name": "stdout",
     "output_type": "stream",
     "text": [
      "              precision    recall  f1-score   support\n",
      "\n",
      "           0       0.92      0.98      0.95     10450\n",
      "           1       0.64      0.35      0.45      1308\n",
      "\n",
      "    accuracy                           0.91     11758\n",
      "   macro avg       0.78      0.66      0.70     11758\n",
      "weighted avg       0.89      0.91      0.89     11758\n",
      "\n"
     ]
    }
   ],
   "source": [
    "from sklearn.metrics import classification_report\n",
    "\n",
    "print(classification_report(y_test, linear_pred))"
   ]
  },
  {
   "cell_type": "markdown",
   "id": "451c5920-7700-47f7-a10d-d751ee6c1fcc",
   "metadata": {},
   "source": [
    "## Polynomic SVM"
   ]
  },
  {
   "cell_type": "code",
   "execution_count": 19,
   "id": "61cea3ba-d2c9-4a0c-b787-245131fea487",
   "metadata": {},
   "outputs": [
    {
     "name": "stdout",
     "output_type": "stream",
     "text": [
      "Confusion matrix on test set:\n",
      " [[10217   233]\n",
      " [  891   417]]\n",
      "\n",
      "Accuracy on test set:  0.9044055111413506\n"
     ]
    }
   ],
   "source": [
    "from sklearn.svm import SVC\n",
    "from sklearn import metrics\n",
    "\n",
    "poly_knc = SVC(kernel='poly')\n",
    "poly_knc.fit(X_train, y_train)\n",
    "poly_pred = poly_knc.predict(X_test)\n",
    "print(\"Confusion matrix on test set:\\n\",metrics.confusion_matrix(y_test, poly_pred))\n",
    "print(\"\\nAccuracy on test set: \", metrics.accuracy_score(y_test, poly_pred))"
   ]
  },
  {
   "cell_type": "code",
   "execution_count": 20,
   "id": "583abae2-d985-42f1-b9c6-1628abacbc36",
   "metadata": {},
   "outputs": [
    {
     "name": "stdout",
     "output_type": "stream",
     "text": [
      "              precision    recall  f1-score   support\n",
      "\n",
      "           0       0.92      0.98      0.95     10450\n",
      "           1       0.64      0.32      0.43      1308\n",
      "\n",
      "    accuracy                           0.90     11758\n",
      "   macro avg       0.78      0.65      0.69     11758\n",
      "weighted avg       0.89      0.90      0.89     11758\n",
      "\n"
     ]
    }
   ],
   "source": [
    "from sklearn.metrics import classification_report\n",
    "\n",
    "print(classification_report(y_test, poly_pred))"
   ]
  },
  {
   "cell_type": "markdown",
   "id": "c91a5d6e-64f7-4244-a4f6-90a939dd70df",
   "metadata": {},
   "source": [
    "## Finding the best parameters of C and gamma"
   ]
  },
  {
   "cell_type": "code",
   "execution_count": 21,
   "id": "1cae4e6d-bf42-4a50-98bf-1f19f87a7683",
   "metadata": {},
   "outputs": [
    {
     "name": "stdout",
     "output_type": "stream",
     "text": [
      "C params: [   1.   10.  100. 1000.]\n",
      "gamma params: [0.0001 0.001  0.01   0.1   ]\n"
     ]
    }
   ],
   "source": [
    "from sklearn.model_selection import GridSearchCV\n",
    "\n",
    "# Parameter sets\n",
    "Cs     = np.logspace(0, 3, num=4, base=10.0)\n",
    "gammas = np.logspace(-4, -1, num=4, base=10.0)\n",
    "\n",
    "cache_size = 3500\n",
    "print(\"C params:\", Cs)\n",
    "print(\"gamma params:\", gammas)"
   ]
  },
  {
   "cell_type": "code",
   "execution_count": 22,
   "id": "f806191d-ce91-4242-9285-05010a09a08c",
   "metadata": {},
   "outputs": [
    {
     "name": "stdout",
     "output_type": "stream",
     "text": [
      "\n",
      "Best value of parameter C found:      1.0\n",
      "\n",
      "Best value of parameter gamma found:  0.1\n",
      "\n",
      "Best value of parameter degree found: 2\n"
     ]
    }
   ],
   "source": [
    "import os\n",
    "import joblib\n",
    "\n",
    "params = {'C'      : Cs, \n",
    "          'gamma'  : gammas,\n",
    "          'degree' : [2, 3],\n",
    "          'kernel' : ['poly'] }\n",
    "\n",
    "if os.path.isfile('trained/svc_poly.plk'):\n",
    "    grid_clf = joblib.load('trained/svc_poly.plk')\n",
    "else:\n",
    "    grid_clf = GridSearchCV(SVC(cache_size=cache_size), params)\n",
    "    grid_clf.fit(X_train, y_train)\n",
    "    joblib.dump(grid_clf, 'trained/svc_poly.plk')\n",
    "\n",
    "bestparams = grid_clf.best_params_\n",
    "\n",
    "print(\"\\nBest value of parameter C found:     \", bestparams['C'])\n",
    "print(\"\\nBest value of parameter gamma found: \", bestparams['gamma'])\n",
    "print(\"\\nBest value of parameter degree found:\", bestparams['degree'])"
   ]
  },
  {
   "cell_type": "code",
   "execution_count": 23,
   "id": "01aeb39a-e3bb-498b-90d6-23456595ea3a",
   "metadata": {},
   "outputs": [
    {
     "data": {
      "text/plain": [
       "Text(0, 0.5, 'gamma')"
      ]
     },
     "execution_count": 23,
     "metadata": {},
     "output_type": "execute_result"
    },
    {
     "data": {
      "image/png": "[encoded data removed]",
      "text/plain": [
       "<Figure size 640x480 with 1 Axes>"
      ]
     },
     "metadata": {},
     "output_type": "display_data"
    },
    {
     "data": {
      "image/png": "[encoded data removed]",
      "text/plain": [
       "<Figure size 640x480 with 1 Axes>"
      ]
     },
     "metadata": {},
     "output_type": "display_data"
    }
   ],
   "source": [
    "# Let's plot the 10-fold cross.validation accuracy deppending on C\n",
    "results = pd.DataFrame(grid_clf.cv_results_)\n",
    "\n",
    "degree2 = results[results.param_degree == 2]['mean_test_score']\n",
    "degree3 = results[results.param_degree == 3]['mean_test_score']\n",
    "\n",
    "degree2 = np.array(degree2).reshape(len(Cs), len(gammas))\n",
    "degree3 = np.array(degree3).reshape(len(Cs), len(gammas))\n",
    "\n",
    "# Plot Grid search scores\n",
    "fig1, ax1 = plt.subplots(1,1)\n",
    "fig2, ax2 = plt.subplots(1,1)\n",
    "\n",
    "for idx, val in enumerate(gammas):\n",
    "    ax1.semilogx(Cs, degree2[idx,:], '-o', label='Gammas' + ': ' + str(val))\n",
    "ax1.set_title('Polynomic kernel with 2 degrees')\n",
    "ax1.set_xlabel('C')\n",
    "ax1.set_ylabel('gamma')\n",
    "\n",
    "for idx, val in enumerate(gammas):\n",
    "    ax2.semilogx(Cs, degree3[idx,:], '-o', label='Gammas' + ': ' + str(val))\n",
    "ax2.set_title('Polynomic kernel with 3 degrees')\n",
    "ax2.set_xlabel('C')\n",
    "ax2.set_ylabel('gamma')"
   ]
  },
  {
   "cell_type": "code",
   "execution_count": 24,
   "id": "cef3b5ef-582b-4e24-ab2b-66d269fc66d1",
   "metadata": {},
   "outputs": [
    {
     "data": {
      "image/png": "[encoded data removed]",
      "text/plain": [
       "<Figure size 480x480 with 1 Axes>"
      ]
     },
     "metadata": {},
     "output_type": "display_data"
    }
   ],
   "source": [
    "plt.matshow(degree2)\n",
    "plt.xticks(np.arange(len(gammas)), gammas,rotation='vertical')\n",
    "plt.yticks(np.arange(len(Cs)), Cs)\n",
    "plt.xlabel('C')\n",
    "plt.ylabel('Gamma')\n",
    "plt.title('Heapmap of Polynomic kernel with 2 degrees')\n",
    "plt.show()"
   ]
  },
  {
   "cell_type": "code",
   "execution_count": 25,
   "id": "70fd8819-9191-4d15-b743-04d3b0c670d0",
   "metadata": {},
   "outputs": [
    {
     "data": {
      "image/png": "[encoded data removed]",
      "text/plain": [
       "<Figure size 480x480 with 1 Axes>"
      ]
     },
     "metadata": {},
     "output_type": "display_data"
    }
   ],
   "source": [
    "plt.matshow(degree3)\n",
    "plt.xticks(np.arange(len(gammas)), gammas,rotation='vertical')\n",
    "plt.yticks(np.arange(len(Cs)), Cs)\n",
    "plt.xlabel('C')\n",
    "plt.ylabel('Gamma')\n",
    "plt.title('Heapmap of Polynomic kernel with 3 degrees')\n",
    "plt.show()"
   ]
  },
  {
   "cell_type": "code",
   "execution_count": 26,
   "id": "cf427a90-c1fe-463b-ab9e-492c2878eec2",
   "metadata": {},
   "outputs": [
    {
     "name": "stdout",
     "output_type": "stream",
     "text": [
      "Confusion matrix on test set:\n",
      " [[10126   324]\n",
      " [  773   535]]\n",
      "\n",
      "Accuracy on test set:  0.9067018200374213\n",
      "\n",
      "Number of supports:  5343 ( 4637 of them have slacks)\n",
      "Prop. of supports:  0.19476542849852368\n"
     ]
    }
   ],
   "source": [
    "# Training model with the best parameters\n",
    "poly_svc = SVC(C=bestparams['C'], gamma=bestparams['gamma'], degree=bestparams['degree'], kernel='poly')\n",
    "poly_svc.fit(X_train, y_train)\n",
    "\n",
    "poly_pred = poly_svc.predict(X_test)\n",
    "\n",
    "print(\"Confusion matrix on test set:\\n\", metrics.confusion_matrix(y_test, poly_pred))\n",
    "print(\"\\nAccuracy on test set: \", metrics.accuracy_score(y_test, poly_pred))\n",
    "print(\"\\nNumber of supports: \",np.sum(poly_svc.n_support_), \"(\",np.sum(np.abs(poly_svc.dual_coef_)==bestparams['C']) ,\"of them have slacks)\")\n",
    "print(\"Prop. of supports: \",np.sum(poly_svc.n_support_)/X_train.shape[0])"
   ]
  },
  {
   "cell_type": "code",
   "execution_count": 27,
   "id": "ac937d88-4a08-44f4-8f47-ed1c8df6de13",
   "metadata": {},
   "outputs": [
    {
     "name": "stdout",
     "output_type": "stream",
     "text": [
      "              precision    recall  f1-score   support\n",
      "\n",
      "           0       0.93      0.97      0.95     10450\n",
      "           1       0.62      0.41      0.49      1308\n",
      "\n",
      "    accuracy                           0.91     11758\n",
      "   macro avg       0.78      0.69      0.72     11758\n",
      "weighted avg       0.90      0.91      0.90     11758\n",
      "\n"
     ]
    }
   ],
   "source": [
    "from sklearn.metrics import classification_report\n",
    "\n",
    "print(classification_report(y_test, poly_pred))"
   ]
  },
  {
   "cell_type": "markdown",
   "id": "239b7355-f92a-4802-971b-8d67b9491c01",
   "metadata": {},
   "source": [
    "## RBF SVM"
   ]
  },
  {
   "cell_type": "code",
   "execution_count": 28,
   "id": "61b0e0cb-c97a-4506-828b-0d8a4f1b6d5c",
   "metadata": {},
   "outputs": [
    {
     "name": "stdout",
     "output_type": "stream",
     "text": [
      "Confusion matrix on test set:\n",
      " [[10311   139]\n",
      " [ 1013   295]]\n",
      "\n",
      "Accuracy on test set:  0.9020241537676476\n"
     ]
    }
   ],
   "source": [
    "from sklearn.svm import SVC\n",
    "from sklearn import metrics\n",
    "\n",
    "rbf_knc = SVC(kernel='rbf')\n",
    "rbf_knc.fit(X_train, y_train)\n",
    "rbf_pred = rbf_knc.predict(X_test)\n",
    "print(\"Confusion matrix on test set:\\n\",metrics.confusion_matrix(y_test, rbf_pred))\n",
    "print(\"\\nAccuracy on test set: \", metrics.accuracy_score(y_test, rbf_pred))"
   ]
  },
  {
   "cell_type": "code",
   "execution_count": 29,
   "id": "ff0726a2-15bc-4ea2-a541-af61d1154745",
   "metadata": {},
   "outputs": [
    {
     "name": "stdout",
     "output_type": "stream",
     "text": [
      "              precision    recall  f1-score   support\n",
      "\n",
      "           0       0.91      0.99      0.95     10450\n",
      "           1       0.68      0.23      0.34      1308\n",
      "\n",
      "    accuracy                           0.90     11758\n",
      "   macro avg       0.80      0.61      0.64     11758\n",
      "weighted avg       0.88      0.90      0.88     11758\n",
      "\n"
     ]
    }
   ],
   "source": [
    "from sklearn.metrics import classification_report\n",
    "\n",
    "print(classification_report(y_test, rbf_pred))"
   ]
  },
  {
   "cell_type": "markdown",
   "id": "728a4750-803c-453a-88d4-e89eab66a0ea",
   "metadata": {},
   "source": [
    "## Finding the best parameters of C and gamma"
   ]
  },
  {
   "cell_type": "code",
   "execution_count": 30,
   "id": "d06704d1-cc8b-4bc4-aab3-e9d96310d34f",
   "metadata": {},
   "outputs": [
    {
     "name": "stdout",
     "output_type": "stream",
     "text": [
      "C params: [1.e+00 1.e+01 1.e+02 1.e+03 1.e+04]\n",
      "gamma params: [1.e-05 1.e-04 1.e-03 1.e-02 1.e-01]\n"
     ]
    }
   ],
   "source": [
    "from sklearn.model_selection import GridSearchCV\n",
    "\n",
    "# Parameter sets\n",
    "Cs     = np.logspace(0, 4, num=5, base=10.0)\n",
    "gammas = np.logspace(-5, -1, num=5, base=10.0)\n",
    "\n",
    "cache_size = 3500\n",
    "print(\"C params:\", Cs)\n",
    "print(\"gamma params:\", gammas)"
   ]
  },
  {
   "cell_type": "code",
   "execution_count": 31,
   "id": "4fd8bdf3-f06d-4cba-a056-33c5cf36e3ee",
   "metadata": {},
   "outputs": [
    {
     "name": "stdout",
     "output_type": "stream",
     "text": [
      "\n",
      "Best value of parameter C found:     1000.0\n",
      "\n",
      "Best value of parameter gamma found: 0.001\n"
     ]
    }
   ],
   "source": [
    "params = {'C'      : Cs, \n",
    "          'gamma'  : gammas,\n",
    "          'kernel' : ['rbf'] }\n",
    "\n",
    "if os.path.isfile('trained/svc_rbf.plk'):\n",
    "    grid_clf = joblib.load('trained/svc_rbf.plk')\n",
    "else:\n",
    "    grid_clf = GridSearchCV(SVC(cache_size=cache_size), params)\n",
    "    grid_clf.fit(X_train, y_train)\n",
    "    joblib.dump(grid_clf, 'trained/svc_rbf.plk')\n",
    "\n",
    "bestparams = grid_clf.best_params_\n",
    "\n",
    "print(\"\\nBest value of parameter C found:    \", bestparams['C'])\n",
    "print(\"\\nBest value of parameter gamma found:\", bestparams['gamma'])"
   ]
  },
  {
   "cell_type": "code",
   "execution_count": 32,
   "id": "b2e81478-d29d-4cd3-a3be-ac4bfe1495c7",
   "metadata": {},
   "outputs": [
    {
     "data": {
      "image/png": "[encoded data removed]",
      "text/plain": [
       "<Figure size 480x480 with 2 Axes>"
      ]
     },
     "metadata": {},
     "output_type": "display_data"
    }
   ],
   "source": [
    "# We'll show in a grid, the accuracy for each combination of parameters tester\n",
    "scores = grid_clf.cv_results_['mean_test_score']\n",
    "scores = np.array(scores).reshape(len(Cs), len(gammas))\n",
    "\n",
    "plt.matshow(scores)\n",
    "plt.xlabel('gamma')\n",
    "plt.ylabel('C')\n",
    "plt.colorbar()\n",
    "plt.xticks(np.arange(len(gammas)), gammas,rotation='vertical')\n",
    "plt.yticks(np.arange(len(Cs)), Cs)\n",
    "plt.show()"
   ]
  },
  {
   "cell_type": "code",
   "execution_count": 33,
   "id": "aeae8fc0-742f-4f3a-b606-1f9e6b00ac32",
   "metadata": {},
   "outputs": [
    {
     "name": "stdout",
     "output_type": "stream",
     "text": [
      "Confusion matrix on test set:\n",
      " [[10169   281]\n",
      " [  786   522]]\n",
      "\n",
      "Accuracy on test set:  0.9092532743663888\n",
      "\n",
      "Number of supports:  5415 ( 4826 of them have slacks)\n",
      "Prop. of supports:  0.1973900047388182\n"
     ]
    }
   ],
   "source": [
    "# Training model with the best parameters\n",
    "rbf_svc = SVC(C=bestparams['C'], gamma=bestparams['gamma'], kernel='rbf')\n",
    "rbf_svc.fit(X_train, y_train)\n",
    "\n",
    "rbf_pred = rbf_svc.predict(X_test)\n",
    "\n",
    "print(\"Confusion matrix on test set:\\n\", metrics.confusion_matrix(y_test, rbf_pred))\n",
    "print(\"\\nAccuracy on test set: \", metrics.accuracy_score(y_test, rbf_pred))\n",
    "print(\"\\nNumber of supports: \",np.sum(rbf_svc.n_support_), \"(\",np.sum(np.abs(rbf_svc.dual_coef_)==bestparams['C']) ,\"of them have slacks)\")\n",
    "print(\"Prop. of supports: \",np.sum(rbf_svc.n_support_)/X_train.shape[0])"
   ]
  },
  {
   "cell_type": "code",
   "execution_count": 34,
   "id": "c19dbc5c-5628-43b6-9314-698275abc930",
   "metadata": {},
   "outputs": [
    {
     "name": "stdout",
     "output_type": "stream",
     "text": [
      "              precision    recall  f1-score   support\n",
      "\n",
      "           0       0.93      0.97      0.95     10450\n",
      "           1       0.65      0.40      0.49      1308\n",
      "\n",
      "    accuracy                           0.91     11758\n",
      "   macro avg       0.79      0.69      0.72     11758\n",
      "weighted avg       0.90      0.91      0.90     11758\n",
      "\n"
     ]
    }
   ],
   "source": [
    "from sklearn.metrics import classification_report\n",
    "\n",
    "print(classification_report(y_test, rbf_pred))"
   ]
  },
  {
   "cell_type": "markdown",
   "id": "a9a69cce-c0a4-4143-8545-0ab2baa8412d",
   "metadata": {},
   "source": [
    "# Training of SVM model with oversampled data"
   ]
  },
  {
   "cell_type": "code",
   "execution_count": 35,
   "id": "e9d33967-b448-471a-91da-133fdee3c43c",
   "metadata": {},
   "outputs": [
    {
     "name": "stderr",
     "output_type": "stream",
     "text": [
      "/home/ahkdel/.local/lib/python3.12/site-packages/sklearn/base.py:474: FutureWarning: `BaseEstimator._validate_data` is deprecated in 1.6 and will be removed in 1.7. Use `sklearn.utils.validation.validate_data` instead. This function becomes public and is part of the scikit-learn developer API.\n",
      "  warnings.warn(\n",
      "/home/ahkdel/.local/lib/python3.12/site-packages/sklearn/utils/_tags.py:354: FutureWarning: The SMOTE or classes from which it inherits use `_get_tags` and `_more_tags`. Please define the `__sklearn_tags__` method, or inherit from `sklearn.base.BaseEstimator` and/or other appropriate mixins such as `sklearn.base.TransformerMixin`, `sklearn.base.ClassifierMixin`, `sklearn.base.RegressorMixin`, and `sklearn.base.OutlierMixin`. From scikit-learn 1.7, not defining `__sklearn_tags__` will raise an error.\n",
      "  warnings.warn(\n",
      "/home/ahkdel/.local/lib/python3.12/site-packages/sklearn/base.py:474: FutureWarning: `BaseEstimator._validate_data` is deprecated in 1.6 and will be removed in 1.7. Use `sklearn.utils.validation.validate_data` instead. This function becomes public and is part of the scikit-learn developer API.\n",
      "  warnings.warn(\n",
      "/home/ahkdel/.local/lib/python3.12/site-packages/sklearn/utils/_tags.py:354: FutureWarning: The ADASYN or classes from which it inherits use `_get_tags` and `_more_tags`. Please define the `__sklearn_tags__` method, or inherit from `sklearn.base.BaseEstimator` and/or other appropriate mixins such as `sklearn.base.TransformerMixin`, `sklearn.base.ClassifierMixin`, `sklearn.base.RegressorMixin`, and `sklearn.base.OutlierMixin`. From scikit-learn 1.7, not defining `__sklearn_tags__` will raise an error.\n",
      "  warnings.warn(\n"
     ]
    }
   ],
   "source": [
    "from imblearn.over_sampling import SMOTE, ADASYN\n",
    "\n",
    "X_SMOTE,  y_SMOTE  =  SMOTE().fit_resample(X_train, y_train)\n",
    "X_ADASYN, y_ADASYN = ADASYN().fit_resample(X_train, y_train)"
   ]
  },
  {
   "cell_type": "markdown",
   "id": "568f4ae0-94ea-4648-a6b5-325c46caf520",
   "metadata": {},
   "source": [
    "# Data normalization\n",
    "SKlearn documentation **highly** recommends normalize the data into a range of [-1, 1]. "
   ]
  },
  {
   "cell_type": "code",
   "execution_count": 36,
   "id": "e984ab23-b3c7-4d58-af20-32b0a2ef6dc2",
   "metadata": {},
   "outputs": [],
   "source": [
    "from sklearn.preprocessing import StandardScaler\n",
    "from sklearn.preprocessing import MinMaxScaler\n",
    "\n",
    "#scaler = StandardScaler().fit(X_train)\n",
    "scaler_SMOTE  = MinMaxScaler(feature_range=(-1, 1)).fit(X_SMOTE)\n",
    "scaler_ADASYN = MinMaxScaler(feature_range=(-1, 1)).fit(X_ADASYN)\n",
    "\n",
    "# Apply the normalization trained in training data in both training and test sets\n",
    "X_SMOTE  =  scaler_SMOTE.transform(X_SMOTE)\n",
    "X_ADASYN = scaler_ADASYN.transform(X_ADASYN)"
   ]
  },
  {
   "cell_type": "markdown",
   "id": "42614d79-91b7-4e69-8506-f7c454577a16",
   "metadata": {},
   "source": [
    "## Linear SVM with SMOTE oversampled training data"
   ]
  },
  {
   "cell_type": "code",
   "execution_count": 37,
   "id": "33c32f37-8051-4509-82df-ad3f0d870128",
   "metadata": {
    "scrolled": true
   },
   "outputs": [
    {
     "name": "stdout",
     "output_type": "stream",
     "text": [
      "Confusion matrix on test set:\n",
      " [[8819 1631]\n",
      " [ 125 1183]]\n",
      "\n",
      "Accuracy on test set:  0.8506548732777683\n"
     ]
    }
   ],
   "source": [
    "from sklearn.svm import SVC\n",
    "from sklearn import metrics\n",
    "\n",
    "linear_SMOTE_knc = SVC(kernel='linear')\n",
    "linear_SMOTE_knc.fit(X_SMOTE, y_SMOTE)\n",
    "linear_SMOTE_pred = linear_SMOTE_knc.predict(X_test)\n",
    "\n",
    "SMOTE_accuracy = metrics.accuracy_score(y_test, linear_SMOTE_pred)\n",
    "print(\"Confusion matrix on test set:\\n\",metrics.confusion_matrix(y_test, linear_SMOTE_pred))\n",
    "print(\"\\nAccuracy on test set: \", SMOTE_accuracy)"
   ]
  },
  {
   "cell_type": "code",
   "execution_count": 38,
   "id": "da1589e2-3d12-423f-9c06-a055868e0e61",
   "metadata": {},
   "outputs": [
    {
     "name": "stdout",
     "output_type": "stream",
     "text": [
      "              precision    recall  f1-score   support\n",
      "\n",
      "           0       0.99      0.84      0.91     10450\n",
      "           1       0.42      0.90      0.57      1308\n",
      "\n",
      "    accuracy                           0.85     11758\n",
      "   macro avg       0.70      0.87      0.74     11758\n",
      "weighted avg       0.92      0.85      0.87     11758\n",
      "\n"
     ]
    }
   ],
   "source": [
    "from sklearn.metrics import classification_report\n",
    "\n",
    "print(classification_report(y_test, linear_SMOTE_pred))"
   ]
  },
  {
   "cell_type": "markdown",
   "id": "327b1cf1-b242-474e-97cb-8efabdc354c8",
   "metadata": {},
   "source": [
    "## Linear SVM with ADASYN oversampled training data"
   ]
  },
  {
   "cell_type": "code",
   "execution_count": 39,
   "id": "5ed0f515-9c8c-4296-a7ae-b76877e34331",
   "metadata": {},
   "outputs": [
    {
     "name": "stdout",
     "output_type": "stream",
     "text": [
      "Confusion matrix on test set:\n",
      " [[8726 1724]\n",
      " [ 109 1199]]\n",
      "\n",
      "Accuracy on test set:  0.844106140500085\n"
     ]
    }
   ],
   "source": [
    "from sklearn.svm import SVC\n",
    "from sklearn import metrics\n",
    "\n",
    "linear_ADASYN_knc = SVC(kernel='linear')\n",
    "linear_ADASYN_knc.fit(X_ADASYN, y_ADASYN)\n",
    "linear_ADASYN_pred = linear_ADASYN_knc.predict(X_test)\n",
    "\n",
    "ADASYN_accuracy = metrics.accuracy_score(y_test, linear_ADASYN_pred)\n",
    "print(\"Confusion matrix on test set:\\n\",metrics.confusion_matrix(y_test, linear_ADASYN_pred))\n",
    "print(\"\\nAccuracy on test set: \", ADASYN_accuracy)"
   ]
  },
  {
   "cell_type": "code",
   "execution_count": 40,
   "id": "843f791d-2894-494a-a57d-846232d3151d",
   "metadata": {},
   "outputs": [
    {
     "name": "stdout",
     "output_type": "stream",
     "text": [
      "              precision    recall  f1-score   support\n",
      "\n",
      "           0       0.99      0.84      0.90     10450\n",
      "           1       0.41      0.92      0.57      1308\n",
      "\n",
      "    accuracy                           0.84     11758\n",
      "   macro avg       0.70      0.88      0.74     11758\n",
      "weighted avg       0.92      0.84      0.87     11758\n",
      "\n"
     ]
    }
   ],
   "source": [
    "from sklearn.metrics import classification_report\n",
    "\n",
    "print(classification_report(y_test, linear_ADASYN_pred))"
   ]
  },
  {
   "cell_type": "code",
   "execution_count": 41,
   "id": "432692fa-8d11-42ab-8362-d6a502a5e178",
   "metadata": {},
   "outputs": [],
   "source": [
    "if ADASYN_accuracy > SMOTE_accuracy:\n",
    "    X_train = X_ADASYN\n",
    "    y_train = y_ADASYN\n",
    "    oversample = 'ADASYN'\n",
    "else:\n",
    "    X_train = X_SMOTE\n",
    "    y_train = y_SMOTE\n",
    "    oversample = 'SMOTE'"
   ]
  },
  {
   "cell_type": "markdown",
   "id": "2da13ec8-7f3c-4587-abb2-0ac90feee51c",
   "metadata": {},
   "source": [
    "## Finding the best parameters of C for linear SVM with oversampled data"
   ]
  },
  {
   "cell_type": "code",
   "execution_count": 42,
   "id": "aa0461a4-319a-413f-97e3-ec6bd4641a5c",
   "metadata": {},
   "outputs": [
    {
     "name": "stdout",
     "output_type": "stream",
     "text": [
      "C params: [   1.   10.  100. 1000.]\n",
      "gamma params: [0.0001 0.001  0.01   0.1   ]\n"
     ]
    }
   ],
   "source": [
    "from sklearn.model_selection import GridSearchCV\n",
    "\n",
    "# Parameter sets\n",
    "Cs     = np.logspace(0, 3, num=4, base=10.0)\n",
    "gammas = np.logspace(-4, -1, num=4, base=10.0)\n",
    "\n",
    "cache_size = 3500\n",
    "print(\"C params:\", Cs)\n",
    "print(\"gamma params:\", gammas)"
   ]
  },
  {
   "cell_type": "code",
   "execution_count": 43,
   "id": "07dad5c7-bf81-48a0-aa19-a36fabaa3ece",
   "metadata": {},
   "outputs": [
    {
     "name": "stdout",
     "output_type": "stream",
     "text": [
      "\n",
      "Best value of parameter C found: 10.0\n"
     ]
    },
    {
     "name": "stderr",
     "output_type": "stream",
     "text": [
      "/home/ahkdel/.local/lib/python3.12/site-packages/sklearn/base.py:380: InconsistentVersionWarning: Trying to unpickle estimator SVC from version 1.5.2 when using version 1.6.0. This might lead to breaking code or invalid results. Use at your own risk. For more info please refer to:\n",
      "https://scikit-learn.org/stable/model_persistence.html#security-maintainability-limitations\n",
      "  warnings.warn(\n",
      "/home/ahkdel/.local/lib/python3.12/site-packages/sklearn/base.py:380: InconsistentVersionWarning: Trying to unpickle estimator GridSearchCV from version 1.5.2 when using version 1.6.0. This might lead to breaking code or invalid results. Use at your own risk. For more info please refer to:\n",
      "https://scikit-learn.org/stable/model_persistence.html#security-maintainability-limitations\n",
      "  warnings.warn(\n"
     ]
    }
   ],
   "source": [
    "import joblib\n",
    "import os\n",
    "\n",
    "params = {'C': Cs, 'kernel': ['linear'] }\n",
    "\n",
    "if os.path.isfile('trained/svc_linear_'+oversample+'.plk'):\n",
    "    grid_clf = joblib.load('trained/svc_linear_'+oversample+'.plk')\n",
    "else:\n",
    "    grid_clf = GridSearchCV(SVC(cache_size=cache_size), params)\n",
    "    grid_clf.fit(X_train, y_train)\n",
    "    joblib.dump(grid_clf, 'trained/svc_linear_'+oversample+'.plk')\n",
    "\n",
    "bestparams = grid_clf.best_params_\n",
    "\n",
    "print(\"\\nBest value of parameter C found:\", bestparams['C'])"
   ]
  },
  {
   "cell_type": "code",
   "execution_count": 44,
   "id": "0e982f1f-1789-4f5b-aaee-2895e3e8fca1",
   "metadata": {},
   "outputs": [
    {
     "data": {
      "image/png": "[encoded data removed]",
      "text/plain": [
       "<Figure size 640x480 with 1 Axes>"
      ]
     },
     "metadata": {},
     "output_type": "display_data"
    }
   ],
   "source": [
    "# Let's plot the 10-fold cross.validation accuracy deppending on C\n",
    "scores = grid_clf.cv_results_['mean_test_score']\n",
    "plt.semilogx(Cs,scores)\n",
    "plt.show()"
   ]
  },
  {
   "cell_type": "code",
   "execution_count": 45,
   "id": "d7f318ac-cd05-4986-abbe-3d24824c1b3f",
   "metadata": {},
   "outputs": [
    {
     "name": "stdout",
     "output_type": "stream",
     "text": [
      "Confusion matrix on test set:\n",
      " [[8822 1628]\n",
      " [ 126 1182]]\n",
      "\n",
      "Accuracy on test set:  0.8508249702330328\n",
      "\n",
      "Number of supports:  14328 ( 14261 of them have slacks)\n",
      "Prop. of supports:  0.2938353636028055\n"
     ]
    }
   ],
   "source": [
    "# Training model with the best parameters\n",
    "linear_os_svc = SVC(C=bestparams['C'], kernel='linear')\n",
    "linear_os_svc.fit(X_train, y_train)\n",
    "\n",
    "linear_os_pred = linear_os_svc.predict(X_test)\n",
    "\n",
    "print(\"Confusion matrix on test set:\\n\", metrics.confusion_matrix(y_test, linear_os_pred))\n",
    "print(\"\\nAccuracy on test set: \", metrics.accuracy_score(y_test, linear_os_pred))\n",
    "print(\"\\nNumber of supports: \",np.sum(linear_os_svc.n_support_), \"(\",np.sum(np.abs(linear_os_svc.dual_coef_)==bestparams['C']) ,\"of them have slacks)\")\n",
    "print(\"Prop. of supports: \",np.sum(linear_os_svc.n_support_)/X_train.shape[0])"
   ]
  },
  {
   "cell_type": "code",
   "execution_count": 46,
   "id": "67f31c0f-8c72-490c-b682-23960ab126cc",
   "metadata": {
    "scrolled": true
   },
   "outputs": [
    {
     "name": "stdout",
     "output_type": "stream",
     "text": [
      "              precision    recall  f1-score   support\n",
      "\n",
      "           0       0.99      0.84      0.91     10450\n",
      "           1       0.42      0.90      0.57      1308\n",
      "\n",
      "    accuracy                           0.85     11758\n",
      "   macro avg       0.70      0.87      0.74     11758\n",
      "weighted avg       0.92      0.85      0.87     11758\n",
      "\n"
     ]
    }
   ],
   "source": [
    "from sklearn.metrics import classification_report\n",
    "\n",
    "print(classification_report(y_test, linear_os_pred))"
   ]
  },
  {
   "cell_type": "markdown",
   "id": "89683a67-55c2-4277-88ae-6ed09669b113",
   "metadata": {},
   "source": [
    "## Polynomic SVM with oversampled data"
   ]
  },
  {
   "cell_type": "code",
   "execution_count": 47,
   "id": "cf983c52-f118-4610-9c34-541348ea58d0",
   "metadata": {},
   "outputs": [
    {
     "name": "stdout",
     "output_type": "stream",
     "text": [
      "Confusion matrix on test set:\n",
      " [[9438 1012]\n",
      " [ 348  960]]\n",
      "\n",
      "Accuracy on test set:  0.8843340704201395\n"
     ]
    }
   ],
   "source": [
    "from sklearn.svm import SVC\n",
    "from sklearn import metrics\n",
    "\n",
    "poly_os_knc = SVC(kernel='poly')\n",
    "poly_os_knc.fit(X_train, y_train)\n",
    "poly_os_pred = poly_os_knc.predict(X_test)\n",
    "print(\"Confusion matrix on test set:\\n\",metrics.confusion_matrix(y_test, poly_os_pred))\n",
    "print(\"\\nAccuracy on test set: \", metrics.accuracy_score(y_test, poly_os_pred))"
   ]
  },
  {
   "cell_type": "code",
   "execution_count": 48,
   "id": "ea0d86d6-f3ab-40e8-b0dc-2b73bb5f3208",
   "metadata": {},
   "outputs": [
    {
     "name": "stdout",
     "output_type": "stream",
     "text": [
      "              precision    recall  f1-score   support\n",
      "\n",
      "           0       0.96      0.90      0.93     10450\n",
      "           1       0.49      0.73      0.59      1308\n",
      "\n",
      "    accuracy                           0.88     11758\n",
      "   macro avg       0.73      0.82      0.76     11758\n",
      "weighted avg       0.91      0.88      0.89     11758\n",
      "\n"
     ]
    }
   ],
   "source": [
    "from sklearn.metrics import classification_report\n",
    "\n",
    "print(classification_report(y_test, poly_os_pred))"
   ]
  },
  {
   "cell_type": "markdown",
   "id": "38d8b703-9369-472a-8050-09d53454013d",
   "metadata": {},
   "source": [
    "## Finding the best parameters of C and degrees"
   ]
  },
  {
   "cell_type": "code",
   "execution_count": null,
   "id": "e6384619-f9a9-441b-8fee-d9668353be6d",
   "metadata": {},
   "outputs": [],
   "source": [
    "from sklearn.model_selection import GridSearchCV\n",
    "\n",
    "# Parameter sets\n",
    "Cs     = np.logspace(0, 2, num=3, base=10.0)\n",
    "gammas = np.logspace(-3, -1, num=3, base=10.0)\n",
    "\n",
    "cache_size = 3500\n",
    "print(\"C params:\", Cs)\n",
    "print(\"gamma params:\", gammas)"
   ]
  },
  {
   "cell_type": "code",
   "execution_count": null,
   "id": "8113f2dc-80f6-42d7-90cf-53f270f8f7a8",
   "metadata": {},
   "outputs": [],
   "source": [
    "params = {'C'      : Cs, \n",
    "          'gamma'  : gammas,\n",
    "          'degree' : [2, 3],\n",
    "          'kernel' : ['poly'] }\n",
    "\n",
    "if os.path.isfile('trained/svc_poly_'+oversample+'.plk'):\n",
    "    grid_clf = joblib.load('trained/svc_poly_'+oversample+'.plk')\n",
    "else:\n",
    "    grid_clf = GridSearchCV(SVC(cache_size=cache_size), params)\n",
    "    grid_clf.fit(X_train, y_train)\n",
    "    joblib.dump(grid_clf, 'trained/svc_poly_'+oversample+'.plk')\n",
    "\n",
    "bestparams = grid_clf.best_params_\n",
    "\n",
    "print(\"\\nBest value of parameter C found:     \", bestparams['C'])\n",
    "print(\"\\nBest value of parameter gamma found: \", bestparams['gamma'])\n",
    "print(\"\\nBest value of parameter degree found:\", bestparams['degree'])"
   ]
  },
  {
   "cell_type": "code",
   "execution_count": null,
   "id": "34463186-a93a-4bd4-abd8-f9b15567ed69",
   "metadata": {},
   "outputs": [],
   "source": [
    "# Let's plot the 10-fold cross.validation accuracy deppending on C\n",
    "results = pd.DataFrame(grid_clf.cv_results_)\n",
    "\n",
    "degree2 = results[results.param_degree == 2]['mean_test_score']\n",
    "degree3 = results[results.param_degree == 3]['mean_test_score']\n",
    "\n",
    "degree2 = np.array(degree2).reshape(len(Cs), len(gammas))\n",
    "degree3 = np.array(degree3).reshape(len(Cs), len(gammas))\n",
    "\n",
    "# Plot Grid search scores\n",
    "fig1, ax1 = plt.subplots(1,1)\n",
    "fig2, ax2 = plt.subplots(1,1)\n",
    "\n",
    "for idx, val in enumerate(gammas):\n",
    "    ax1.semilogx(Cs, degree2[idx,:], '-o', label='Gammas' + ': ' + str(val))\n",
    "ax1.set_title('Polynomic kernel with 2 degrees')\n",
    "ax1.set_xlabel('C')\n",
    "ax1.set_ylabel('gamma')\n",
    "\n",
    "for idx, val in enumerate(gammas):\n",
    "    ax2.semilogx(Cs, degree3[idx,:], '-o', label='Gammas' + ': ' + str(val))\n",
    "ax2.set_title('Polynomic kernel with 3 degrees')\n",
    "ax2.set_xlabel('C')\n",
    "ax2.set_ylabel('gamma')"
   ]
  },
  {
   "cell_type": "code",
   "execution_count": null,
   "id": "a679d455-7540-437d-b30a-63b660a48c4d",
   "metadata": {},
   "outputs": [],
   "source": [
    "# Training model with the best parameters\n",
    "poly_os_svc = SVC(C=bestparams['C'], gamma=bestparams['gamma'], degree=bestparams['degree'], kernel='poly')\n",
    "poly_os_svc.fit(X_train, y_train)\n",
    "\n",
    "poly_os_pred = poly_os_svc.predict(X_test)\n",
    "\n",
    "print(\"Confusion matrix on test set:\\n\", metrics.confusion_matrix(y_test, poly_os_pred))\n",
    "print(\"\\nAccuracy on test set: \", metrics.accuracy_score(y_test, poly_os_pred))\n",
    "print(\"\\nNumber of supports: \",np.sum(svc.n_support_), \"(\",np.sum(np.abs(svc.dual_coef_)==bestparams['C']) ,\"of them have slacks)\")\n",
    "print(\"Prop. of supports: \",np.sum(svc.n_support_)/X_train.shape[0])"
   ]
  },
  {
   "cell_type": "code",
   "execution_count": null,
   "id": "595a5ff2-dc28-4a48-96ce-7ecc10eb384f",
   "metadata": {},
   "outputs": [],
   "source": [
    "from sklearn.metrics import classification_report\n",
    "\n",
    "print(classification_report(y_test, poly_os_pred))"
   ]
  },
  {
   "cell_type": "markdown",
   "id": "82a8922d-f85b-4683-bd11-9f207b018b3c",
   "metadata": {},
   "source": [
    "## RBF SVM with oversampled data"
   ]
  },
  {
   "cell_type": "code",
   "execution_count": 49,
   "id": "5d17fd8f-a1d7-4f5a-bb10-4872fed00ac8",
   "metadata": {},
   "outputs": [
    {
     "name": "stdout",
     "output_type": "stream",
     "text": [
      "Confusion matrix on test set:\n",
      " [[9656  794]\n",
      " [ 445  863]]\n",
      "\n",
      "Accuracy on test set:  0.8946249362136418\n"
     ]
    }
   ],
   "source": [
    "from sklearn.svm import SVC\n",
    "from sklearn import metrics\n",
    "\n",
    "rbf_os_knc = SVC(kernel='rbf')\n",
    "rbf_os_knc.fit(X_train, y_train)\n",
    "rbf_os_pred = rbf_os_knc.predict(X_test)\n",
    "print(\"Confusion matrix on test set:\\n\",metrics.confusion_matrix(y_test, rbf_os_pred))\n",
    "print(\"\\nAccuracy on test set: \", metrics.accuracy_score(y_test, rbf_os_pred))"
   ]
  },
  {
   "cell_type": "code",
   "execution_count": 50,
   "id": "7ad50b2d-de3d-4087-9d4c-9a91d0025ad6",
   "metadata": {},
   "outputs": [
    {
     "name": "stdout",
     "output_type": "stream",
     "text": [
      "              precision    recall  f1-score   support\n",
      "\n",
      "           0       0.96      0.92      0.94     10450\n",
      "           1       0.52      0.66      0.58      1308\n",
      "\n",
      "    accuracy                           0.89     11758\n",
      "   macro avg       0.74      0.79      0.76     11758\n",
      "weighted avg       0.91      0.89      0.90     11758\n",
      "\n"
     ]
    }
   ],
   "source": [
    "from sklearn.metrics import classification_report\n",
    "\n",
    "print(classification_report(y_test, rbf_os_pred))"
   ]
  },
  {
   "cell_type": "markdown",
   "id": "37b0a4f0-d80e-447e-8bc1-059dfcd3ef4d",
   "metadata": {},
   "source": [
    "## Finding the best parameters of C and gamma"
   ]
  },
  {
   "cell_type": "code",
   "execution_count": 51,
   "id": "f58b5fd8-18ab-41d6-8b26-931009d93cb4",
   "metadata": {},
   "outputs": [
    {
     "name": "stdout",
     "output_type": "stream",
     "text": [
      "C params: [   1.   10.  100. 1000.]\n",
      "gamma params: [0.0001 0.001  0.01   0.1   ]\n"
     ]
    }
   ],
   "source": [
    "from sklearn.model_selection import GridSearchCV\n",
    "\n",
    "# Parameter sets\n",
    "Cs     = np.logspace(0, 3, num=4, base=10.0)\n",
    "gammas = np.logspace(-4, -1, num=4, base=10.0)\n",
    "\n",
    "cache_size = 3500\n",
    "print(\"C params:\", Cs)\n",
    "print(\"gamma params:\", gammas)"
   ]
  },
  {
   "cell_type": "code",
   "execution_count": 52,
   "id": "9c106863-4d0a-4728-b36a-09b9a9a5c62a",
   "metadata": {},
   "outputs": [
    {
     "name": "stdout",
     "output_type": "stream",
     "text": [
      "\n",
      "Best value of parameter C found:     10.0\n",
      "\n",
      "Best value of parameter gamma found: 0.1\n"
     ]
    }
   ],
   "source": [
    "params = {'C'      : Cs, \n",
    "          'gamma'  : gammas,\n",
    "          'kernel' : ['rbf'] }\n",
    "\n",
    "if os.path.isfile('trained/svc_rbf_'+oversample+'.plk'):\n",
    "    grid_clf = joblib.load('trained/svc_rbf_'+oversample+'.plk')\n",
    "else:\n",
    "    grid_clf = GridSearchCV(SVC(cache_size=cache_size), params)\n",
    "    grid_clf.fit(X_train, y_train)\n",
    "    joblib.dump(grid_clf, 'trained/svc_rbf_'+oversample+'.plk')\n",
    "\n",
    "bestparams = grid_clf.best_params_\n",
    "\n",
    "print(\"\\nBest value of parameter C found:    \", bestparams['C'])\n",
    "print(\"\\nBest value of parameter gamma found:\", bestparams['gamma'])"
   ]
  },
  {
   "cell_type": "code",
   "execution_count": 53,
   "id": "2a35a4da-d62e-48d6-a0bf-eb3c8359a7e8",
   "metadata": {},
   "outputs": [
    {
     "data": {
      "image/png": "[encoded data removed]",
      "text/plain": [
       "<Figure size 480x480 with 2 Axes>"
      ]
     },
     "metadata": {},
     "output_type": "display_data"
    }
   ],
   "source": [
    "# We'll show in a grid, the accuracy for each combination of parameters tester\n",
    "scores = grid_clf.cv_results_['mean_test_score']\n",
    "scores = np.array(scores).reshape(len(Cs), len(gammas))\n",
    "\n",
    "plt.matshow(scores)\n",
    "plt.xlabel('gamma')\n",
    "plt.ylabel('C')\n",
    "plt.colorbar()\n",
    "plt.xticks(np.arange(len(gammas)), gammas,rotation='vertical')\n",
    "plt.yticks(np.arange(len(Cs)), Cs)\n",
    "plt.show()"
   ]
  },
  {
   "cell_type": "code",
   "execution_count": 54,
   "id": "0f81abdb-b2ec-4d79-80f3-a4106e3da3d3",
   "metadata": {},
   "outputs": [
    {
     "name": "stdout",
     "output_type": "stream",
     "text": [
      "Confusion matrix on test set:\n",
      " [[9805  645]\n",
      " [ 719  589]]\n",
      "\n",
      "Accuracy on test set:  0.8839938765096105\n",
      "\n",
      "Number of supports:  9756 ( 3180 of them have slacks)\n",
      "Prop. of supports:  0.20007382798080472\n"
     ]
    }
   ],
   "source": [
    "# Training model with the best parameters\n",
    "rbf_os_svc = SVC(C=bestparams['C'], gamma=bestparams['gamma'], kernel='rbf')\n",
    "rbf_os_svc.fit(X_train, y_train)\n",
    "\n",
    "rbf_os_pred = rbf_os_svc.predict(X_test)\n",
    "\n",
    "print(\"Confusion matrix on test set:\\n\", metrics.confusion_matrix(y_test, rbf_os_pred))\n",
    "print(\"\\nAccuracy on test set: \", metrics.accuracy_score(y_test, rbf_os_pred))\n",
    "print(\"\\nNumber of supports: \",np.sum(rbf_os_svc.n_support_), \"(\",np.sum(np.abs(rbf_os_svc.dual_coef_)==bestparams['C']) ,\"of them have slacks)\")\n",
    "print(\"Prop. of supports: \",np.sum(rbf_os_svc.n_support_)/X_train.shape[0])"
   ]
  },
  {
   "cell_type": "code",
   "execution_count": 55,
   "id": "5792b15c-3a38-435b-a2be-7a7bdb72e1a4",
   "metadata": {},
   "outputs": [
    {
     "name": "stdout",
     "output_type": "stream",
     "text": [
      "              precision    recall  f1-score   support\n",
      "\n",
      "           0       0.93      0.94      0.93     10450\n",
      "           1       0.48      0.45      0.46      1308\n",
      "\n",
      "    accuracy                           0.88     11758\n",
      "   macro avg       0.70      0.69      0.70     11758\n",
      "weighted avg       0.88      0.88      0.88     11758\n",
      "\n"
     ]
    }
   ],
   "source": [
    "from sklearn.metrics import classification_report\n",
    "\n",
    "print(classification_report(y_test, rbf_os_pred))"
   ]
  },
  {
   "cell_type": "markdown",
   "id": "820e2527-5a42-4937-bbac-bdaab9803647",
   "metadata": {},
   "source": [
    "# Trying all possible combinations for best kernel and parameters\n",
    "This cell is extremely computationally costly. It'll take a lot of time. Execute this with caution."
   ]
  },
  {
   "cell_type": "code",
   "execution_count": null,
   "id": "00148ddd-79a5-45d3-b7bb-ba4afea1d54f",
   "metadata": {},
   "outputs": [],
   "source": [
    "from sklearn.model_selection import GridSearchCV\n",
    "\n",
    "#Create a dictionary of possible parameters\n",
    "params_grid = {'C': Cs,\n",
    "               'gamma': gammas,\n",
    "               'kernel':['linear','rbf', 'poly'],\n",
    "               'degree': [2, 3] }\n",
    "\n",
    "if os.path.isfile('trained/svc_all.plk'):\n",
    "    grid_clf = joblib.load('trained/svc_all.plk')\n",
    "else:\n",
    "    #Create the GridSearchCV object\n",
    "    grid_clf = GridSearchCV(SVC(cache_size=3500), params_grid)\n",
    "    \n",
    "    #Fit the data with the best possible parameters\n",
    "    grid_clf.fit(X_train, y_train)\n",
    "    joblib.dump(grid_clf, 'trained/svc_all.plk')\n",
    "\n",
    "#Print the best estimator with it's parameters\n",
    "print(grid_clf.best_estimators)"
   ]
  },
  {
   "cell_type": "code",
   "execution_count": null,
   "id": "8d2b2368-d343-4a5c-a2e9-778cc9f1f63c",
   "metadata": {},
   "outputs": [],
   "source": []
  }
 ],
 "metadata": {
  "kernelspec": {
   "display_name": "Python 3 (ipykernel)",
   "language": "python",
   "name": "python3"
  },
  "language_info": {
   "codemirror_mode": {
    "name": "ipython",
    "version": 3
   },
   "file_extension": ".py",
   "mimetype": "text/x-python",
   "name": "python",
   "nbconvert_exporter": "python",
   "pygments_lexer": "ipython3",
   "version": "3.12.3"
  }
 },
 "nbformat": 4,
 "nbformat_minor": 5
}
