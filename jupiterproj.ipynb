{
 "cells": [
  {
   "cell_type": "code",
   "execution_count": 1,
   "id": "51a4e4d2-a3db-4c0c-8724-e6d57785dc7c",
   "metadata": {},
   "outputs": [
    {
     "data": {
      "text/html": [
       "<div>\n",
       "<style scoped>\n",
       "    .dataframe tbody tr th:only-of-type {\n",
       "        vertical-align: middle;\n",
       "    }\n",
       "\n",
       "    .dataframe tbody tr th {\n",
       "        vertical-align: top;\n",
       "    }\n",
       "\n",
       "    .dataframe thead th {\n",
       "        text-align: right;\n",
       "    }\n",
       "</style>\n",
       "<table border=\"1\" class=\"dataframe\">\n",
       "  <thead>\n",
       "    <tr style=\"text-align: right;\">\n",
       "      <th></th>\n",
       "      <th>age</th>\n",
       "      <th>job</th>\n",
       "      <th>marital</th>\n",
       "      <th>education</th>\n",
       "      <th>default</th>\n",
       "      <th>housing</th>\n",
       "      <th>loan</th>\n",
       "      <th>contact</th>\n",
       "      <th>month</th>\n",
       "      <th>day_of_week</th>\n",
       "      <th>...</th>\n",
       "      <th>campaign</th>\n",
       "      <th>pdays</th>\n",
       "      <th>previous</th>\n",
       "      <th>poutcome</th>\n",
       "      <th>emp.var.rate</th>\n",
       "      <th>cons.price.idx</th>\n",
       "      <th>cons.conf.idx</th>\n",
       "      <th>euribor3m</th>\n",
       "      <th>nr.employed</th>\n",
       "      <th>y</th>\n",
       "    </tr>\n",
       "  </thead>\n",
       "  <tbody>\n",
       "    <tr>\n",
       "      <th>0</th>\n",
       "      <td>56</td>\n",
       "      <td>housemaid</td>\n",
       "      <td>married</td>\n",
       "      <td>basic.4y</td>\n",
       "      <td>no</td>\n",
       "      <td>no</td>\n",
       "      <td>no</td>\n",
       "      <td>telephone</td>\n",
       "      <td>may</td>\n",
       "      <td>mon</td>\n",
       "      <td>...</td>\n",
       "      <td>1</td>\n",
       "      <td>999</td>\n",
       "      <td>0</td>\n",
       "      <td>nonexistent</td>\n",
       "      <td>1.1</td>\n",
       "      <td>93.994</td>\n",
       "      <td>-36.4</td>\n",
       "      <td>4.857</td>\n",
       "      <td>5191.0</td>\n",
       "      <td>no</td>\n",
       "    </tr>\n",
       "    <tr>\n",
       "      <th>1</th>\n",
       "      <td>57</td>\n",
       "      <td>services</td>\n",
       "      <td>married</td>\n",
       "      <td>high.school</td>\n",
       "      <td>unknown</td>\n",
       "      <td>no</td>\n",
       "      <td>no</td>\n",
       "      <td>telephone</td>\n",
       "      <td>may</td>\n",
       "      <td>mon</td>\n",
       "      <td>...</td>\n",
       "      <td>1</td>\n",
       "      <td>999</td>\n",
       "      <td>0</td>\n",
       "      <td>nonexistent</td>\n",
       "      <td>1.1</td>\n",
       "      <td>93.994</td>\n",
       "      <td>-36.4</td>\n",
       "      <td>4.857</td>\n",
       "      <td>5191.0</td>\n",
       "      <td>no</td>\n",
       "    </tr>\n",
       "    <tr>\n",
       "      <th>2</th>\n",
       "      <td>37</td>\n",
       "      <td>services</td>\n",
       "      <td>married</td>\n",
       "      <td>high.school</td>\n",
       "      <td>no</td>\n",
       "      <td>yes</td>\n",
       "      <td>no</td>\n",
       "      <td>telephone</td>\n",
       "      <td>may</td>\n",
       "      <td>mon</td>\n",
       "      <td>...</td>\n",
       "      <td>1</td>\n",
       "      <td>999</td>\n",
       "      <td>0</td>\n",
       "      <td>nonexistent</td>\n",
       "      <td>1.1</td>\n",
       "      <td>93.994</td>\n",
       "      <td>-36.4</td>\n",
       "      <td>4.857</td>\n",
       "      <td>5191.0</td>\n",
       "      <td>no</td>\n",
       "    </tr>\n",
       "    <tr>\n",
       "      <th>3</th>\n",
       "      <td>40</td>\n",
       "      <td>admin.</td>\n",
       "      <td>married</td>\n",
       "      <td>basic.6y</td>\n",
       "      <td>no</td>\n",
       "      <td>no</td>\n",
       "      <td>no</td>\n",
       "      <td>telephone</td>\n",
       "      <td>may</td>\n",
       "      <td>mon</td>\n",
       "      <td>...</td>\n",
       "      <td>1</td>\n",
       "      <td>999</td>\n",
       "      <td>0</td>\n",
       "      <td>nonexistent</td>\n",
       "      <td>1.1</td>\n",
       "      <td>93.994</td>\n",
       "      <td>-36.4</td>\n",
       "      <td>4.857</td>\n",
       "      <td>5191.0</td>\n",
       "      <td>no</td>\n",
       "    </tr>\n",
       "    <tr>\n",
       "      <th>4</th>\n",
       "      <td>56</td>\n",
       "      <td>services</td>\n",
       "      <td>married</td>\n",
       "      <td>high.school</td>\n",
       "      <td>no</td>\n",
       "      <td>no</td>\n",
       "      <td>yes</td>\n",
       "      <td>telephone</td>\n",
       "      <td>may</td>\n",
       "      <td>mon</td>\n",
       "      <td>...</td>\n",
       "      <td>1</td>\n",
       "      <td>999</td>\n",
       "      <td>0</td>\n",
       "      <td>nonexistent</td>\n",
       "      <td>1.1</td>\n",
       "      <td>93.994</td>\n",
       "      <td>-36.4</td>\n",
       "      <td>4.857</td>\n",
       "      <td>5191.0</td>\n",
       "      <td>no</td>\n",
       "    </tr>\n",
       "  </tbody>\n",
       "</table>\n",
       "<p>5 rows × 21 columns</p>\n",
       "</div>"
      ],
      "text/plain": [
       "   age        job  marital    education  default housing loan    contact  \\\n",
       "0   56  housemaid  married     basic.4y       no      no   no  telephone   \n",
       "1   57   services  married  high.school  unknown      no   no  telephone   \n",
       "2   37   services  married  high.school       no     yes   no  telephone   \n",
       "3   40     admin.  married     basic.6y       no      no   no  telephone   \n",
       "4   56   services  married  high.school       no      no  yes  telephone   \n",
       "\n",
       "  month day_of_week  ...  campaign  pdays  previous     poutcome emp.var.rate  \\\n",
       "0   may         mon  ...         1    999         0  nonexistent          1.1   \n",
       "1   may         mon  ...         1    999         0  nonexistent          1.1   \n",
       "2   may         mon  ...         1    999         0  nonexistent          1.1   \n",
       "3   may         mon  ...         1    999         0  nonexistent          1.1   \n",
       "4   may         mon  ...         1    999         0  nonexistent          1.1   \n",
       "\n",
       "   cons.price.idx  cons.conf.idx  euribor3m  nr.employed   y  \n",
       "0          93.994          -36.4      4.857       5191.0  no  \n",
       "1          93.994          -36.4      4.857       5191.0  no  \n",
       "2          93.994          -36.4      4.857       5191.0  no  \n",
       "3          93.994          -36.4      4.857       5191.0  no  \n",
       "4          93.994          -36.4      4.857       5191.0  no  \n",
       "\n",
       "[5 rows x 21 columns]"
      ]
     },
     "execution_count": 1,
     "metadata": {},
     "output_type": "execute_result"
    }
   ],
   "source": [
    "# Import libraries \n",
    "\n",
    "import numpy as np    # Numeric and matrix computation\n",
    "import pandas as pd   # Optional: good package for manipulating data \n",
    "import sklearn as sk  # Package with learning algorithms implemented\n",
    "import matplotlib.pyplot as  plt\n",
    "\n",
    "\n",
    "df = pd.read_csv(\"bank-additional-full.csv\", header=0) \n",
    "df.head()"
   ]
  },
  {
   "cell_type": "code",
   "execution_count": 2,
   "id": "5db40c49-9009-41de-9bfe-b93280904d02",
   "metadata": {},
   "outputs": [
    {
     "name": "stdout",
     "output_type": "stream",
     "text": [
      "(39191, 20)\n",
      "(39191,)\n"
     ]
    }
   ],
   "source": [
    "# Separation into data and label\n",
    "#X = df.drop(columns=['y'])\n",
    "#y = df['y']\n",
    "# Codificación de la columna y a valores binarios\n",
    "df['y'] = df['y'].apply(lambda x: 1 if x == 'yes' else 0)\n",
    "\n",
    "# Separación de características y etiquetas\n",
    "X = df.drop(['y'], axis=1)  # Datos\n",
    "y = df['y']  # Etiqueta\n",
    "\n",
    "print(X.shape)\n",
    "print(y.shape)\n"
   ]
  },
  {
   "cell_type": "code",
   "execution_count": 3,
   "id": "dc361263-b84c-4f6e-a349-56cc06687c9b",
   "metadata": {},
   "outputs": [
    {
     "name": "stdout",
     "output_type": "stream",
     "text": [
      "Promedio de exactitud: 0.8670358366617889\n"
     ]
    }
   ],
   "source": [
    "from sklearn.naive_bayes import GaussianNB       ### Because continuous data\n",
    "from sklearn.model_selection import StratifiedKFold\n",
    "from sklearn.model_selection import cross_val_score, train_test_split\n",
    "import sklearn.neighbors as nb\n",
    "\n",
    "# Convertir características categóricas a numéricas usando One-Hot Encoding\n",
    "#X_encoded = pd.get_dummies(X, drop_first=True)\n",
    "# One-hot encoding para variables categóricas\n",
    "X = pd.get_dummies(X)\n",
    "\n",
    "\n",
    "# Usar shuffle=True para mezclar los datos\n",
    "cv = StratifiedKFold(n_splits=10, shuffle=True, random_state=1) \n",
    "\n",
    "# Crear y evaluar el modelo\n",
    "gnb = GaussianNB()\n",
    "cv_scores = cross_val_score(gnb,X=X,y=y,cv=cv)\n",
    "np.mean(cv_scores)\n",
    "print(\"Promedio de exactitud:\", np.mean(cv_scores))\n",
    "\n",
    "#print(\"Mean CV Score:\", mean_score)\n",
    "\n",
    "\n"
   ]
  },
  {
   "cell_type": "code",
   "execution_count": 4,
   "id": "09794e8c-96b7-4a84-8a0f-d111edf45599",
   "metadata": {},
   "outputs": [
    {
     "name": "stdout",
     "output_type": "stream",
     "text": [
      "conf_matrix Score: [[31776  3055]\n",
      " [ 2156  2204]]\n",
      "Accuracy Score: 0.8670357990354929\n"
     ]
    }
   ],
   "source": [
    "from sklearn.model_selection import cross_val_predict  \n",
    "from sklearn.metrics import accuracy_score\n",
    "from sklearn.metrics import confusion_matrix\n",
    "from sklearn.preprocessing import LabelEncoder\n",
    "\n",
    "# Codificar la variable objetivo\n",
    "#le = LabelEncoder()\n",
    "#y_encoded = le.fit_transform(y)\n",
    "\n",
    "# Realizar predicciones usando cross_val_predict\n",
    "#predicted = cross_val_predict(GaussianNB(), X=X_encoded, y=y_encoded, cv=cv)\n",
    "#conf_matrix = confusion_matrix(y_encoded, predicted)\n",
    "#accuracy = accuracy_score(y_encoded, predicted)\n",
    "predicted = cross_val_predict(GaussianNB(), X=X, y=y,  cv=cv)  \n",
    "\n",
    "# Calcular y mostrar la matriz de confusión y la precisión\n",
    "conf_matrix = confusion_matrix(y, predicted)\n",
    "accuracy = accuracy_score(y, predicted)\n",
    "print(\"conf_matrix Score:\",conf_matrix)\n",
    "print(\"Accuracy Score:\", accuracy)"
   ]
  },
  {
   "cell_type": "code",
   "execution_count": 5,
   "id": "a1e0a2b4-a870-4f0c-95a7-99476abad3e0",
   "metadata": {},
   "outputs": [
    {
     "name": "stdout",
     "output_type": "stream",
     "text": [
      "              precision    recall  f1-score   support\n",
      "\n",
      "           0       0.94      0.91      0.92     34831\n",
      "           1       0.42      0.51      0.46      4360\n",
      "\n",
      "    accuracy                           0.87     39191\n",
      "   macro avg       0.68      0.71      0.69     39191\n",
      "weighted avg       0.88      0.87      0.87     39191\n",
      "\n"
     ]
    }
   ],
   "source": [
    "from sklearn.metrics import classification_report\n",
    "print(classification_report(y, predicted))\n",
    "#print(classification_report(y_encoded, predicted))"
   ]
  },
  {
   "cell_type": "code",
   "execution_count": 6,
   "id": "393087e9-601e-43be-8ebe-a23b991a2b22",
   "metadata": {},
   "outputs": [],
   "source": [
    "## Adjusting probability threshold"
   ]
  },
  {
   "cell_type": "code",
   "execution_count": 7,
   "id": "99352a91-7841-45dc-b013-b9956f08e0c1",
   "metadata": {},
   "outputs": [],
   "source": [
    "# Focus on predict class 1\n",
    "\n",
    "#y2 = np.zeros((y_encoded.shape))\n",
    "#y2[y_encoded == 1] = 1  # Asumiendo que '1' es la clase positiva\n",
    "#y2[y_encoded == 0] = 0  # Clase negativa\n",
    "#(X_train, X_test, y_train, y_test) = train_test_split(X_encoded, y2, test_size=.3, random_state=1)\n",
    "#y2 = np.zeros((y.shape))\n",
    "y2 = y\n",
    "\n",
    "(X_train, X_test,  y_train, y_test) = train_test_split(X, y2, test_size=.3, random_state=1)\n",
    "#(X_train, X_test,  y_train, y_test) = train_test_split(X, y2, test_size=.3, random_state=1)\n",
    "\n"
   ]
  },
  {
   "cell_type": "code",
   "execution_count": 8,
   "id": "f7d6c76c-aa5b-4b80-9a14-caa0e3e9901d",
   "metadata": {},
   "outputs": [
    {
     "name": "stdout",
     "output_type": "stream",
     "text": [
      "Selected threshold in 10-fold cross validation: 0.04537002370220737\n",
      "\n"
     ]
    }
   ],
   "source": [
    "from sklearn.metrics import f1_score\n",
    "from sklearn.model_selection import StratifiedKFold\n",
    "\n",
    "#def filterp(th,ProbClass1):\n",
    "#      y=np.zeros(ProbClass1.shape[0])\n",
    "#    for i,v in enumerate(ProbClass1):\n",
    " #       if ProbClass1[i]>th:\n",
    " #           y[i]=1\n",
    "#    return y  \n",
    "\n",
    " # Ajuste de umbral de probabilidad para la clase positiva\n",
    "def filterp(th, ProbClass1):\n",
    "    \"\"\" Dado un umbral 'th' y un conjunto de probabilidades de pertenecer a la clase 1 'ProbClass1', retorna predicciones \"\"\"\n",
    "    return np.where(ProbClass1 > th, 1, 0)   \n",
    "\n",
    "clf = GaussianNB()\n",
    "lth=[]\n",
    "\n",
    "# We do a 10 fold crossvalidation with 10 iterations\n",
    "kf = StratifiedKFold(n_splits=20, shuffle=True, random_state=42)\n",
    "for train_index, test_index in kf.split(X_train, y_train):\n",
    "    #X_train2, X_test2 = X_encoded[train_index], X_encoded[test_index]\n",
    "    X_train2, X_test2 = X.iloc[train_index], X.iloc[test_index]\n",
    "    y_train2, y_test2 = y2[train_index], y2[test_index]\n",
    "\n",
    "    # Train with the training data of the iteration \n",
    "    clf.fit(X_train2, y_train2)\n",
    "    # Obtaining probablity predictions for test data of the iterarion\n",
    "    probs = clf.predict_proba(X_test2)\n",
    "    # Collect probabilities of belonging to class 1\n",
    "    ProbClass1 = probs[:,1]\n",
    "    # Sort probabilities and generate pairs (threshold, f1-for-that-threshold) \n",
    "    res = np.array([[th,f1_score(y_test2,filterp(th,ProbClass1),pos_label=1)] for th in np.sort(ProbClass1)])\n",
    "\n",
    "    # Uncomment the following lines if you want to plot at each iteration how f1-score evolves increasing the threshold \n",
    "    #plt.plot(res[:,0],res[:,1])\n",
    "    #plt.show()\n",
    "\n",
    "    # Find the threshold that has maximum value of f1-score\n",
    "    maxF = np.max(res[:,1])\n",
    "    pl = np.argmax(res[:,1])\n",
    "    optimal_th = res[pl,0]\n",
    "    \n",
    "    # Store the optimal threshold found for the current iteration\n",
    "    lth.append(optimal_th)\n",
    "\n",
    "# Compute the average threshold for all 10 iterations    \n",
    "thdef = np.mean(lth)\n",
    "print(\"Selected threshold in 10-fold cross validation:\", thdef)\n",
    "print()\n"
   ]
  },
  {
   "cell_type": "code",
   "execution_count": 9,
   "id": "5930cae6-be52-4d61-bc5c-b3616cbcb46e",
   "metadata": {},
   "outputs": [],
   "source": [
    "# Train a classifier with the whole training data \n",
    "clf = GaussianNB()\n",
    "clf.fit(X_train, y_train)\n",
    "# Obtain probabilities for data on test set\n",
    "probs = clf.predict_proba(X_test)\n",
    "# Generate predictions using probabilities and threshold found on 10 folds cross-validation"
   ]
  },
  {
   "cell_type": "code",
   "execution_count": 10,
   "id": "f6c82fb4-93ee-4f71-bf3d-2facbec8c429",
   "metadata": {},
   "outputs": [
    {
     "name": "stdout",
     "output_type": "stream",
     "text": [
      "              precision    recall  f1-score   support\n",
      "\n",
      "           0       0.95      0.87      0.91     10440\n",
      "           1       0.37      0.61      0.46      1318\n",
      "\n",
      "    accuracy                           0.84     11758\n",
      "   macro avg       0.66      0.74      0.68     11758\n",
      "weighted avg       0.88      0.84      0.86     11758\n",
      "\n"
     ]
    }
   ],
   "source": [
    "pred = filterp(thdef,probs[:,1])\n",
    "# Print results with this prediction vector\n",
    "print(classification_report(y_test, pred))\n",
    "\n",
    "# Ignore warnings explaining that in some iterations f1 score is 0\n"
   ]
  },
  {
   "cell_type": "code",
   "execution_count": 11,
   "id": "d8333a46-95ce-477a-a5aa-c8e69f5363c8",
   "metadata": {},
   "outputs": [
    {
     "name": "stdout",
     "output_type": "stream",
     "text": [
      "              precision    recall  f1-score   support\n",
      "\n",
      "           0       0.94      0.91      0.92     10440\n",
      "           1       0.43      0.52      0.47      1318\n",
      "\n",
      "    accuracy                           0.87     11758\n",
      "   macro avg       0.68      0.72      0.70     11758\n",
      "weighted avg       0.88      0.87      0.87     11758\n",
      "\n"
     ]
    }
   ],
   "source": [
    "clf = GaussianNB()\n",
    "clf.fit(X_train, y_train)\n",
    "pred=clf.predict(X_test)\n",
    "print(classification_report(y_test, pred))"
   ]
  },
  {
   "cell_type": "code",
   "execution_count": 12,
   "id": "ce2aeb85-8fe0-4ae0-a768-9b5a650b2bdd",
   "metadata": {},
   "outputs": [
    {
     "name": "stdout",
     "output_type": "stream",
     "text": [
      "[0 1]\n",
      "y\n",
      "0    34831\n",
      "1     4360\n",
      "Name: count, dtype: int64\n"
     ]
    }
   ],
   "source": [
    "print(df['y'].unique())  # Para ver los valores únicos de la columna 'y'\n",
    "print(df['y'].value_counts())  # Para ver cuántos son '1' y cuántos son '0'\n"
   ]
  },
  {
   "cell_type": "code",
   "execution_count": null,
   "id": "7543e8d8-f080-497f-8015-7f8ec6652d91",
   "metadata": {},
   "outputs": [],
   "source": []
  }
 ],
 "metadata": {
  "kernelspec": {
   "display_name": "Python 3 (ipykernel)",
   "language": "python",
   "name": "python3"
  },
  "language_info": {
   "codemirror_mode": {
    "name": "ipython",
    "version": 3
   },
   "file_extension": ".py",
   "mimetype": "text/x-python",
   "name": "python",
   "nbconvert_exporter": "python",
   "pygments_lexer": "ipython3",
   "version": "3.8.10"
  }
 },
 "nbformat": 4,
 "nbformat_minor": 5
}
